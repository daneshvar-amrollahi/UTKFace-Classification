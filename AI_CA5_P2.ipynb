{
  "nbformat": 4,
  "nbformat_minor": 0,
  "metadata": {
    "accelerator": "GPU",
    "colab": {
      "name": "AI-CA5-P2.ipynb",
      "provenance": [],
      "collapsed_sections": [],
      "mount_file_id": "1g8dFRgkk83ryamhyyW6bPUOVmFsGibzS",
      "authorship_tag": "ABX9TyMtYd3Hvss4vWvi5zZxmhUA",
      "include_colab_link": true
    },
    "kernelspec": {
      "display_name": "Python 3",
      "name": "python3"
    },
    "language_info": {
      "name": "python"
    }
  },
  "cells": [
    {
      "cell_type": "markdown",
      "metadata": {
        "id": "view-in-github",
        "colab_type": "text"
      },
      "source": [
        "<a href=\"https://colab.research.google.com/github/daneshvar-amrollahi/UTKFace-Classification/blob/main/AI_CA5_P2.ipynb\" target=\"_parent\"><img src=\"https://colab.research.google.com/assets/colab-badge.svg\" alt=\"Open In Colab\"/></a>"
      ]
    },
    {
      "cell_type": "code",
      "metadata": {
        "id": "L_Admqdng2YQ"
      },
      "source": [
        "import numpy as np\n",
        "import tensorflow as tf\n",
        "from tensorflow import keras"
      ],
      "execution_count": 74,
      "outputs": []
    },
    {
      "cell_type": "code",
      "metadata": {
        "colab": {
          "base_uri": "https://localhost:8080/"
        },
        "id": "1Go1-vYbnvB8",
        "outputId": "4692d85f-a3cc-4553-f57c-233cc1b3055a"
      },
      "source": [
        "from google.colab import drive\n",
        "drive.mount('/content/drive')"
      ],
      "execution_count": 75,
      "outputs": [
        {
          "output_type": "stream",
          "text": [
            "Drive already mounted at /content/drive; to attempt to forcibly remount, call drive.mount(\"/content/drive\", force_remount=True).\n"
          ],
          "name": "stdout"
        }
      ]
    },
    {
      "cell_type": "code",
      "metadata": {
        "id": "NGky30V-pMQf"
      },
      "source": [
        "!cp \"/content/drive/MyDrive/CA5/UTKFace.tar.gz\" ."
      ],
      "execution_count": 76,
      "outputs": []
    },
    {
      "cell_type": "code",
      "metadata": {
        "id": "N-EQ0Xrjt-o9"
      },
      "source": [
        "!tar xvzf \"UTKFace.tar.gz\" > dataset_extract_log.txt"
      ],
      "execution_count": 182,
      "outputs": []
    },
    {
      "cell_type": "code",
      "metadata": {
        "id": "s5wCKsFjuUAQ"
      },
      "source": [
        "from tensorflow.keras import *\n",
        "from tensorflow.keras.utils import *\n",
        "import matplotlib.pyplot as plt\n",
        "from sklearn.metrics import classification_report\n",
        "import numpy as np\n",
        "import pandas as pd\n",
        "import tensorboard\n",
        "import os"
      ],
      "execution_count": 78,
      "outputs": []
    },
    {
      "cell_type": "code",
      "metadata": {
        "id": "tU-ArUuxuyh_"
      },
      "source": [
        "img_path = list()\n",
        "Races = list()\n",
        "file_names = list()\n",
        "\n",
        "path = \"/content/UTKFace\"\n",
        "\n",
        "for img in os.listdir(path):\n",
        "  temp = img.split('.')\n",
        "\n",
        "  if (len(temp[0].split('_')) == 4):\n",
        "    img_path.append(os.path.join(path, img))\n",
        "    Age, Gender, Race, Date = temp[0].split('_')\n",
        "    file_names.append(temp[0] + '.' + temp[1])\n",
        "    Races.append(int(Race))\n",
        "  else:\n",
        "    continue\n",
        "\n",
        "classes_labels = {0:\"White\", 1:\"Black\", 2:\"Asian\", 3:\"Indian\", 4:\"Others\"}\n",
        "Races = [str(to_categorical(i, len(classes_labels))) for i in Races]\n",
        "\n",
        "df = pd.DataFrame({\n",
        "    'image': img_path,\n",
        "    'Race': Races\n",
        "})\n"
      ],
      "execution_count": 114,
      "outputs": []
    },
    {
      "cell_type": "code",
      "metadata": {
        "colab": {
          "base_uri": "https://localhost:8080/"
        },
        "id": "KfriBW9Q9Y3c",
        "outputId": "d330364c-9b96-4faa-9f64-d556df271ffc"
      },
      "source": [
        "file_names[:5]"
      ],
      "execution_count": 115,
      "outputs": [
        {
          "output_type": "execute_result",
          "data": {
            "text/plain": [
              "['45_1_0_20170117135025030.jpg',\n",
              " '40_1_0_20170104183430557.jpg',\n",
              " '30_0_1_20170116010659651.jpg',\n",
              " '22_0_0_20170117193856707.jpg',\n",
              " '35_0_0_20170117193222963.jpg']"
            ]
          },
          "metadata": {
            "tags": []
          },
          "execution_count": 115
        }
      ]
    },
    {
      "cell_type": "code",
      "metadata": {
        "colab": {
          "base_uri": "https://localhost:8080/"
        },
        "id": "hHsw7jfrj1yx",
        "outputId": "22aa4e64-c0ff-4b9e-e664-b81b9e194c3a"
      },
      "source": [
        "Races[:5]"
      ],
      "execution_count": 116,
      "outputs": [
        {
          "output_type": "execute_result",
          "data": {
            "text/plain": [
              "['[1. 0. 0. 0. 0.]',\n",
              " '[1. 0. 0. 0. 0.]',\n",
              " '[0. 1. 0. 0. 0.]',\n",
              " '[1. 0. 0. 0. 0.]',\n",
              " '[1. 0. 0. 0. 0.]']"
            ]
          },
          "metadata": {
            "tags": []
          },
          "execution_count": 116
        }
      ]
    },
    {
      "cell_type": "code",
      "metadata": {
        "colab": {
          "base_uri": "https://localhost:8080/"
        },
        "id": "fmhNVTkk27ID",
        "outputId": "9515f322-0428-4b85-9336-ad1b7954a353"
      },
      "source": [
        "print(Races[0])\n",
        "test = (Races[0][1:-1].split(' '))\n",
        "print(test)\n",
        "print(test.index('1.'))"
      ],
      "execution_count": 117,
      "outputs": [
        {
          "output_type": "stream",
          "text": [
            "[1. 0. 0. 0. 0.]\n",
            "['1.', '0.', '0.', '0.', '0.']\n",
            "0\n"
          ],
          "name": "stdout"
        }
      ]
    },
    {
      "cell_type": "code",
      "metadata": {
        "colab": {
          "base_uri": "https://localhost:8080/"
        },
        "id": "mIN3bhXo4VBX",
        "outputId": "cc242eb2-f5de-44d5-d02c-4ebed60d239f"
      },
      "source": [
        "y = [0] * 5\n",
        "for data in Races:\n",
        "  race_one_hot = (data[1:-1].split(' '))\n",
        "  race = race_one_hot.index('1.')\n",
        "  y[race] += 1\n",
        "\n",
        "x = [0, 1, 2, 3, 4]\n",
        "\n",
        "print(\"Count of each race:\")\n",
        "print(y)"
      ],
      "execution_count": 82,
      "outputs": [
        {
          "output_type": "stream",
          "text": [
            "Count of each race:\n",
            "[10078, 4526, 3434, 3975, 1692]\n"
          ],
          "name": "stdout"
        }
      ]
    },
    {
      "cell_type": "code",
      "metadata": {
        "colab": {
          "base_uri": "https://localhost:8080/",
          "height": 336
        },
        "id": "_8p0QZqw6MzK",
        "outputId": "3663b4a7-b48a-4f5a-abd4-ce8615267055"
      },
      "source": [
        "import matplotlib.pyplot as plt\n",
        "fig = plt.figure()\n",
        "ax = fig.add_axes([0,0,1,1])\n",
        "ax.bar(x, y)\n",
        "plt.show()"
      ],
      "execution_count": 83,
      "outputs": [
        {
          "output_type": "display_data",
          "data": {
            "image/png": "[encoded data removed]",
            "text/plain": [
              "<Figure size 432x288 with 1 Axes>"
            ]
          },
          "metadata": {
            "tags": [],
            "needs_background": "light"
          }
        }
      ]
    },
    {
      "cell_type": "code",
      "metadata": {
        "id": "-JFyKnG88K25"
      },
      "source": [
        "\n",
        "white = Races.index('[1. 0. 0. 0. 0.]')\n",
        "black = Races.index('[0. 1. 0. 0. 0.]')\n",
        "asian = Races.index('[0. 0. 1. 0. 0.]')\n",
        "indian = Races.index('[0. 0. 0. 1. 0.]')\n",
        "other = Races.index('[0. 0. 0. 0. 1.]')\n"
      ],
      "execution_count": 84,
      "outputs": []
    },
    {
      "cell_type": "code",
      "metadata": {
        "colab": {
          "base_uri": "https://localhost:8080/"
        },
        "id": "RlFaIStG-wTD",
        "outputId": "cabae040-400e-49e7-a288-406a1f11b36d"
      },
      "source": [
        "!ls"
      ],
      "execution_count": null,
      "outputs": [
        {
          "output_type": "stream",
          "text": [
            "drive  sample_data  UTKFace  UTKFace.tar.gz\n"
          ],
          "name": "stdout"
        }
      ]
    },
    {
      "cell_type": "code",
      "metadata": {
        "colab": {
          "base_uri": "https://localhost:8080/"
        },
        "id": "MsKPPEutA6uK",
        "outputId": "f65253af-2a2c-4d49-ba25-505db7903c55"
      },
      "source": [
        "print('/content/UTKFace/' + file_names[white])"
      ],
      "execution_count": 85,
      "outputs": [
        {
          "output_type": "stream",
          "text": [
            "/content/UTKFace/45_1_0_20170117135025030.jpg\n"
          ],
          "name": "stdout"
        }
      ]
    },
    {
      "cell_type": "code",
      "metadata": {
        "colab": {
          "base_uri": "https://localhost:8080/",
          "height": 34
        },
        "id": "JuQB_YEmAQ5B",
        "outputId": "11258c80-88bf-4519-f6de-6d1f6c09400b"
      },
      "source": [
        "from IPython import display\n",
        "display.Image('/content/UTKFace/' + file_names[white])"
      ],
      "execution_count": 186,
      "outputs": [
        {
          "output_type": "execute_result",
          "data": {
            "image/png": "/content/UTKFace/45_1_0_20170117135025030.jpg",
            "text/plain": [
              "<IPython.core.display.Image object>"
            ]
          },
          "metadata": {
            "tags": []
          },
          "execution_count": 186
        }
      ]
    },
    {
      "cell_type": "code",
      "metadata": {
        "id": "9nfmgz0Ox6bP"
      },
      "source": [
        "dataGenerator = preprocessing.image.ImageDataGenerator(\n",
        "    rescale = 1/255.0, \n",
        "    validation_split = 0.3\n",
        ")"
      ],
      "execution_count": 87,
      "outputs": []
    },
    {
      "cell_type": "code",
      "metadata": {
        "colab": {
          "base_uri": "https://localhost:8080/"
        },
        "id": "3Dg_c_RQuhSi",
        "outputId": "283827bd-3eb9-4299-be4a-5b4438761f64"
      },
      "source": [
        "TrainData = dataGenerator.flow_from_dataframe(\n",
        "    dataframe = df, \n",
        "    x_col = 'image', \n",
        "    y_col = 'Race', \n",
        "    target_size = (100, 100), \n",
        "    color_mode = \"grayscale\",\n",
        "    batch_size = 32, \n",
        "    class_mode = 'categorical', \n",
        "    subset = \"training\", \n",
        "    shuffle = False\n",
        ")\n"
      ],
      "execution_count": 118,
      "outputs": [
        {
          "output_type": "stream",
          "text": [
            "Found 16594 validated image filenames belonging to 5 classes.\n"
          ],
          "name": "stdout"
        }
      ]
    },
    {
      "cell_type": "code",
      "metadata": {
        "colab": {
          "base_uri": "https://localhost:8080/"
        },
        "id": "vD77DhQ2yJv-",
        "outputId": "60dd3ba0-5228-49fa-a23f-295a18998d10"
      },
      "source": [
        "TestData = dataGenerator.flow_from_dataframe(\n",
        "    dataframe = df, \n",
        "    x_col = 'image', \n",
        "    y_col = 'Race', \n",
        "    target_size = (100, 100), \n",
        "    color_mode = \"grayscale\",\n",
        "    batch_size = 32, \n",
        "    class_mode = 'categorical', \n",
        "    subset = \"validation\", \n",
        "    shuffle = False\n",
        ")\n",
        "\n"
      ],
      "execution_count": 119,
      "outputs": [
        {
          "output_type": "stream",
          "text": [
            "Found 7111 validated image filenames belonging to 5 classes.\n"
          ],
          "name": "stdout"
        }
      ]
    },
    {
      "cell_type": "code",
      "metadata": {
        "id": "VUpkBY6rzCG-"
      },
      "source": [
        "input = layers.Input(shape = (100, 100, 1))\n",
        "\n",
        "output = layers.Flatten()(input)\n",
        "output = layers.Dense(1024, activation = \"relu\")(output)\n",
        "output = layers.Dense(512, activation = \"relu\")(output)\n",
        "output = layers.Dense(5, activation = \"softmax\")(output)"
      ],
      "execution_count": 120,
      "outputs": []
    },
    {
      "cell_type": "code",
      "metadata": {
        "id": "-2DftLk8zl4x"
      },
      "source": [
        "model = models.Model(inputs = input, outputs = output)"
      ],
      "execution_count": 121,
      "outputs": []
    },
    {
      "cell_type": "code",
      "metadata": {
        "id": "PYT3Xr-FzrN1"
      },
      "source": [
        "model.compile(optimizer = optimizers.SGD(learning_rate = 0.01), loss = \"categorical_crossentropy\", metrics = [\"accuracy\"])"
      ],
      "execution_count": 122,
      "outputs": []
    },
    {
      "cell_type": "code",
      "metadata": {
        "colab": {
          "base_uri": "https://localhost:8080/"
        },
        "id": "tBQChREoz5U6",
        "outputId": "111be0a2-9d37-42f3-8d87-728901d8af4e"
      },
      "source": [
        "model.summary()"
      ],
      "execution_count": 123,
      "outputs": [
        {
          "output_type": "stream",
          "text": [
            "Model: \"model_2\"\n",
            "_________________________________________________________________\n",
            "Layer (type)                 Output Shape              Param #   \n",
            "=================================================================\n",
            "input_3 (InputLayer)         [(None, 100, 100, 1)]     0         \n",
            "_________________________________________________________________\n",
            "flatten_2 (Flatten)          (None, 10000)             0         \n",
            "_________________________________________________________________\n",
            "dense_6 (Dense)              (None, 1024)              10241024  \n",
            "_________________________________________________________________\n",
            "dense_7 (Dense)              (None, 512)               524800    \n",
            "_________________________________________________________________\n",
            "dense_8 (Dense)              (None, 5)                 2565      \n",
            "=================================================================\n",
            "Total params: 10,768,389\n",
            "Trainable params: 10,768,389\n",
            "Non-trainable params: 0\n",
            "_________________________________________________________________\n"
          ],
          "name": "stdout"
        }
      ]
    },
    {
      "cell_type": "markdown",
      "metadata": {
        "id": "GqOeXYle1neG"
      },
      "source": [
        "### **Initial Model**"
      ]
    },
    {
      "cell_type": "code",
      "metadata": {
        "colab": {
          "base_uri": "https://localhost:8080/"
        },
        "id": "PbAJ7jaCJ_Br",
        "outputId": "7303be60-030c-4391-fa2c-5a0f4df69f61"
      },
      "source": [
        "history = model.fit(TrainData, validation_data = TestData, epochs = 10)"
      ],
      "execution_count": 124,
      "outputs": [
        {
          "output_type": "stream",
          "text": [
            "Epoch 1/10\n",
            "519/519 [==============================] - 21s 40ms/step - loss: 1.2813 - accuracy: 0.5031 - val_loss: 1.1451 - val_accuracy: 0.5510\n",
            "Epoch 2/10\n",
            "519/519 [==============================] - 20s 39ms/step - loss: 1.1154 - accuracy: 0.5825 - val_loss: 1.1352 - val_accuracy: 0.5806\n",
            "Epoch 3/10\n",
            "519/519 [==============================] - 21s 40ms/step - loss: 1.0374 - accuracy: 0.6185 - val_loss: 1.0613 - val_accuracy: 0.6050\n",
            "Epoch 4/10\n",
            "519/519 [==============================] - 21s 41ms/step - loss: 0.9804 - accuracy: 0.6426 - val_loss: 0.9623 - val_accuracy: 0.6401\n",
            "Epoch 5/10\n",
            "519/519 [==============================] - 20s 39ms/step - loss: 0.9486 - accuracy: 0.6555 - val_loss: 0.9301 - val_accuracy: 0.6546\n",
            "Epoch 6/10\n",
            "519/519 [==============================] - 20s 39ms/step - loss: 0.9147 - accuracy: 0.6690 - val_loss: 0.9390 - val_accuracy: 0.6510\n",
            "Epoch 7/10\n",
            "519/519 [==============================] - 20s 39ms/step - loss: 0.8847 - accuracy: 0.6766 - val_loss: 0.8974 - val_accuracy: 0.6759\n",
            "Epoch 8/10\n",
            "519/519 [==============================] - 20s 39ms/step - loss: 0.8761 - accuracy: 0.6857 - val_loss: 0.8605 - val_accuracy: 0.6975\n",
            "Epoch 9/10\n",
            "519/519 [==============================] - 20s 39ms/step - loss: 0.8479 - accuracy: 0.6983 - val_loss: 0.8560 - val_accuracy: 0.6960\n",
            "Epoch 10/10\n",
            "519/519 [==============================] - 20s 39ms/step - loss: 0.8382 - accuracy: 0.7003 - val_loss: 0.8651 - val_accuracy: 0.6805\n"
          ],
          "name": "stdout"
        }
      ]
    },
    {
      "cell_type": "code",
      "metadata": {
        "colab": {
          "base_uri": "https://localhost:8080/",
          "height": 590
        },
        "id": "6z0MngKALJ3I",
        "outputId": "49810bdd-b54b-4d37-9963-3d111642f948"
      },
      "source": [
        "\n",
        "print(history.history.keys())\n",
        "\n",
        "plt.plot(history.history['accuracy'])\n",
        "plt.plot(history.history['val_accuracy'])\n",
        "plt.title('model accuracy')\n",
        "plt.ylabel('accuracy')\n",
        "plt.xlabel('epoch')\n",
        "plt.legend(['train', 'test'], loc='upper left')\n",
        "plt.show()\n",
        "\n",
        "plt.plot(history.history['loss'])\n",
        "plt.plot(history.history['val_loss'])\n",
        "plt.title('model loss')\n",
        "plt.ylabel('loss')\n",
        "plt.xlabel('epoch')\n",
        "plt.legend(['train', 'test'], loc='upper left')\n",
        "plt.show()\n",
        "\n",
        "# Source: https://machinelearningmastery.com/display-deep-learning-model-training-history-in-keras/"
      ],
      "execution_count": 125,
      "outputs": [
        {
          "output_type": "stream",
          "text": [
            "dict_keys(['loss', 'accuracy', 'val_loss', 'val_accuracy'])\n"
          ],
          "name": "stdout"
        },
        {
          "output_type": "display_data",
          "data": {
            "image/png": "[encoded data removed]",
            "text/plain": [
              "<Figure size 432x288 with 1 Axes>"
            ]
          },
          "metadata": {
            "tags": [],
            "needs_background": "light"
          }
        },
        {
          "output_type": "display_data",
          "data": {
            "image/png": "[encoded data removed]",
            "text/plain": [
              "<Figure size 432x288 with 1 Axes>"
            ]
          },
          "metadata": {
            "tags": [],
            "needs_background": "light"
          }
        }
      ]
    },
    {
      "cell_type": "code",
      "metadata": {
        "colab": {
          "base_uri": "https://localhost:8080/"
        },
        "id": "aCB4ZLihLYKe",
        "outputId": "0eda8a7c-8370-408e-f364-08057b3c73f5"
      },
      "source": [
        "\n"
      ],
      "execution_count": 154,
      "outputs": [
        {
          "output_type": "stream",
          "text": [
            "519/519 [==============================] - 15s 29ms/step\n"
          ],
          "name": "stdout"
        }
      ]
    },
    {
      "cell_type": "markdown",
      "metadata": {
        "id": "a5Bntidz0eJA"
      },
      "source": [
        "#### Train Data Results (Momentum = 0)"
      ]
    },
    {
      "cell_type": "code",
      "metadata": {
        "colab": {
          "base_uri": "https://localhost:8080/"
        },
        "id": "5k2GCW_1QYUl",
        "outputId": "fb607a8c-e8bf-405b-e604-e4d7bbf0f43d"
      },
      "source": [
        "y_pred = model.predict(TrainData, verbose = 1)\n",
        "y_pred_bool = np.argmax(y_pred, axis = 1)\n",
        "\n",
        "y_true = np.array(TrainData.labels)\n",
        "\n",
        "print(classification_report(y_true, y_pred_bool))"
      ],
      "execution_count": 171,
      "outputs": [
        {
          "output_type": "stream",
          "text": [
            "519/519 [==============================] - 15s 30ms/step\n",
            "              precision    recall  f1-score   support\n",
            "\n",
            "           0       0.50      0.00      0.01      1177\n",
            "           1       0.76      0.42      0.54      2789\n",
            "           2       0.84      0.55      0.66      2378\n",
            "           3       0.81      0.78      0.79      3192\n",
            "           4       0.64      0.94      0.76      7058\n",
            "\n",
            "    accuracy                           0.70     16594\n",
            "   macro avg       0.71      0.54      0.55     16594\n",
            "weighted avg       0.71      0.70      0.66     16594\n",
            "\n"
          ],
          "name": "stdout"
        }
      ]
    },
    {
      "cell_type": "markdown",
      "metadata": {
        "id": "FRjSlSTT1Bvy"
      },
      "source": [
        "#### Test Data Results (Momentum = 0)"
      ]
    },
    {
      "cell_type": "code",
      "metadata": {
        "colab": {
          "base_uri": "https://localhost:8080/"
        },
        "id": "ePiDLjnVqsMD",
        "outputId": "476f43fd-c0e5-46b6-a8c6-33d67c10c485"
      },
      "source": [
        "y_pred = model.predict(TestData, verbose = 1)\n",
        "y_pred_bool = np.argmax(y_pred, axis = 1)\n",
        "\n",
        "y_true = np.array(TestData.labels)\n",
        "\n",
        "print(classification_report(y_true, y_pred_bool))"
      ],
      "execution_count": 172,
      "outputs": [
        {
          "output_type": "stream",
          "text": [
            "223/223 [==============================] - 7s 29ms/step\n",
            "              precision    recall  f1-score   support\n",
            "\n",
            "           0       0.33      0.00      0.00       515\n",
            "           1       0.72      0.40      0.51      1186\n",
            "           2       0.81      0.53      0.64      1056\n",
            "           3       0.78      0.76      0.77      1334\n",
            "           4       0.63      0.92      0.75      3020\n",
            "\n",
            "    accuracy                           0.68      7111\n",
            "   macro avg       0.65      0.52      0.53      7111\n",
            "weighted avg       0.68      0.68      0.64      7111\n",
            "\n"
          ],
          "name": "stdout"
        }
      ]
    },
    {
      "cell_type": "markdown",
      "metadata": {
        "id": "esBipn67sP5v"
      },
      "source": [
        "**Momentum** or **SGD with momentum** is a method which helps accelerate gradients vectors in the right directions, thus leading to faster converging in compare to stochastic gradient descent.\n",
        "A momentum, is a moving average of our gradients. We then use it to update the weight of the network. Here is how the weights are updated using momentum:\n",
        "\n",
        "\n",
        "$$velocity = momentum * velocity - learningRate * g$$\n",
        "$$w = w + velocity$$\n",
        "\n",
        "It considers the amount of weight increment in the previous iteration as well. Thus, if the optimization algorithm is moving in a general direction, the momentum causes it to ‘resist’ changes in direction.\n",
        "\n",
        "A large value of momentum also means that the convergence will happen fast. But if both the momentum and learning rate are kept at large values, then you might skip the minimum with a huge step"
      ]
    },
    {
      "cell_type": "markdown",
      "metadata": {
        "id": "7ERPopJrEsfj"
      },
      "source": [
        "### Momentum = 0.5"
      ]
    },
    {
      "cell_type": "code",
      "metadata": {
        "id": "HOHJLjw10WDR"
      },
      "source": [
        "input = layers.Input(shape = (100, 100, 1))\n",
        "\n",
        "output = layers.Flatten()(input)\n",
        "output = layers.Dense(1024, activation = \"relu\")(output)\n",
        "output = layers.Dense(512, activation = \"relu\")(output)\n",
        "output = layers.Dense(5, activation = \"softmax\")(output)\n",
        "\n",
        "model = models.Model(inputs = input, outputs = output)\n",
        "\n",
        "model.compile(optimizer = optimizers.SGD(learning_rate = 0.01, momentum = 0.5), loss = \"categorical_crossentropy\", metrics = [\"accuracy\"])"
      ],
      "execution_count": 253,
      "outputs": []
    },
    {
      "cell_type": "code",
      "metadata": {
        "id": "Vyvy07zV1hvF",
        "colab": {
          "base_uri": "https://localhost:8080/"
        },
        "outputId": "250c1147-1c37-46b7-a129-509f7bc83667"
      },
      "source": [
        "history = model.fit(TrainData, validation_data = TestData, epochs = 10)"
      ],
      "execution_count": 254,
      "outputs": [
        {
          "output_type": "stream",
          "text": [
            "Epoch 1/10\n",
            "519/519 [==============================] - 25s 47ms/step - loss: 1.2521 - accuracy: 0.5174 - val_loss: 1.1864 - val_accuracy: 0.5417\n",
            "Epoch 2/10\n",
            "519/519 [==============================] - 21s 40ms/step - loss: 1.0599 - accuracy: 0.6088 - val_loss: 1.0269 - val_accuracy: 0.6106\n",
            "Epoch 3/10\n",
            "519/519 [==============================] - 21s 40ms/step - loss: 0.9836 - accuracy: 0.6414 - val_loss: 0.9396 - val_accuracy: 0.6564\n",
            "Epoch 4/10\n",
            "519/519 [==============================] - 21s 40ms/step - loss: 0.9425 - accuracy: 0.6593 - val_loss: 0.8717 - val_accuracy: 0.6902\n",
            "Epoch 5/10\n",
            "519/519 [==============================] - 21s 40ms/step - loss: 0.9056 - accuracy: 0.6745 - val_loss: 0.8868 - val_accuracy: 0.6732\n",
            "Epoch 6/10\n",
            "519/519 [==============================] - 21s 40ms/step - loss: 0.8796 - accuracy: 0.6861 - val_loss: 1.0075 - val_accuracy: 0.6365\n",
            "Epoch 7/10\n",
            "519/519 [==============================] - 21s 40ms/step - loss: 0.8627 - accuracy: 0.6936 - val_loss: 0.9270 - val_accuracy: 0.6552\n",
            "Epoch 8/10\n",
            "519/519 [==============================] - 21s 40ms/step - loss: 0.8418 - accuracy: 0.6965 - val_loss: 0.8361 - val_accuracy: 0.7071\n",
            "Epoch 9/10\n",
            "519/519 [==============================] - 21s 40ms/step - loss: 0.8249 - accuracy: 0.7050 - val_loss: 0.9208 - val_accuracy: 0.6744\n",
            "Epoch 10/10\n",
            "519/519 [==============================] - 21s 40ms/step - loss: 0.8087 - accuracy: 0.7141 - val_loss: 0.8614 - val_accuracy: 0.6917\n"
          ],
          "name": "stdout"
        }
      ]
    },
    {
      "cell_type": "code",
      "metadata": {
        "colab": {
          "base_uri": "https://localhost:8080/",
          "height": 590
        },
        "id": "r3bWhOdjDjDj",
        "outputId": "7abf3820-87ec-45f4-81dd-3788f5c439b0"
      },
      "source": [
        "\n",
        "print(history.history.keys())\n",
        "\n",
        "plt.plot(history.history['accuracy'])\n",
        "plt.plot(history.history['val_accuracy'])\n",
        "plt.title('model accuracy')\n",
        "plt.ylabel('accuracy')\n",
        "plt.xlabel('epoch')\n",
        "plt.legend(['train', 'test'], loc='upper left')\n",
        "plt.show()\n",
        "\n",
        "plt.plot(history.history['loss'])\n",
        "plt.plot(history.history['val_loss'])\n",
        "plt.title('model loss')\n",
        "plt.ylabel('loss')\n",
        "plt.xlabel('epoch')\n",
        "plt.legend(['train', 'test'], loc='upper left')\n",
        "plt.show()\n",
        "\n",
        "# Source: https://machinelearningmastery.com/display-deep-learning-model-training-history-in-keras/"
      ],
      "execution_count": 255,
      "outputs": [
        {
          "output_type": "stream",
          "text": [
            "dict_keys(['loss', 'accuracy', 'val_loss', 'val_accuracy'])\n"
          ],
          "name": "stdout"
        },
        {
          "output_type": "display_data",
          "data": {
            "image/png": "[encoded data removed]",
            "text/plain": [
              "<Figure size 432x288 with 1 Axes>"
            ]
          },
          "metadata": {
            "tags": [],
            "needs_background": "light"
          }
        },
        {
          "output_type": "display_data",
          "data": {
            "image/png": "[encoded data removed]",
            "text/plain": [
              "<Figure size 432x288 with 1 Axes>"
            ]
          },
          "metadata": {
            "tags": [],
            "needs_background": "light"
          }
        }
      ]
    },
    {
      "cell_type": "code",
      "metadata": {
        "colab": {
          "base_uri": "https://localhost:8080/"
        },
        "id": "nhFsdJ4S4dDD",
        "outputId": "e5f7c285-067d-4476-b741-ff5ae735d408"
      },
      "source": [
        "y_pred = model.predict(TestData, verbose = 1)\n",
        "y_pred_bool = np.argmax(y_pred, axis = 1)\n",
        "\n",
        "y_true = np.array(TestData.labels)\n",
        "\n",
        "print(classification_report(y_true, y_pred_bool))"
      ],
      "execution_count": 256,
      "outputs": [
        {
          "output_type": "stream",
          "text": [
            "223/223 [==============================] - 6s 27ms/step\n",
            "              precision    recall  f1-score   support\n",
            "\n",
            "           0       0.43      0.01      0.02       515\n",
            "           1       0.76      0.39      0.52      1186\n",
            "           2       0.76      0.64      0.69      1056\n",
            "           3       0.83      0.73      0.78      1334\n",
            "           4       0.63      0.93      0.75      3020\n",
            "\n",
            "    accuracy                           0.69      7111\n",
            "   macro avg       0.68      0.54      0.55      7111\n",
            "weighted avg       0.70      0.69      0.66      7111\n",
            "\n"
          ],
          "name": "stdout"
        }
      ]
    },
    {
      "cell_type": "markdown",
      "metadata": {
        "id": "nZnny93H4mAe"
      },
      "source": [
        "#### As it can be seen, with momentum = 0.5 we have a faster convergence in compare to the momentum = 0 case"
      ]
    },
    {
      "cell_type": "markdown",
      "metadata": {
        "id": "p_LAUb1OE05n"
      },
      "source": [
        "### Momentum = 0.9"
      ]
    },
    {
      "cell_type": "code",
      "metadata": {
        "id": "v9d59qPr5QCJ"
      },
      "source": [
        "model = models.Model(inputs = input, outputs = output)\n",
        "\n",
        "model.compile(optimizer = optimizers.SGD(learning_rate = 0.01, momentum = 0.9), loss = \"categorical_crossentropy\", metrics = [\"accuracy\"])"
      ],
      "execution_count": 258,
      "outputs": []
    },
    {
      "cell_type": "code",
      "metadata": {
        "colab": {
          "base_uri": "https://localhost:8080/"
        },
        "id": "FSBxj_j95auK",
        "outputId": "cf68bf55-782e-4465-ddce-350b36739ca3"
      },
      "source": [
        "history = model.fit(TrainData, validation_data = TestData, epochs = 10)"
      ],
      "execution_count": 259,
      "outputs": [
        {
          "output_type": "stream",
          "text": [
            "Epoch 1/10\n",
            "519/519 [==============================] - 21s 40ms/step - loss: 1.0883 - accuracy: 0.5997 - val_loss: 1.0427 - val_accuracy: 0.6067\n",
            "Epoch 2/10\n",
            "519/519 [==============================] - 21s 40ms/step - loss: 1.0237 - accuracy: 0.6254 - val_loss: 0.9075 - val_accuracy: 0.6742\n",
            "Epoch 3/10\n",
            "519/519 [==============================] - 21s 40ms/step - loss: 1.0052 - accuracy: 0.6297 - val_loss: 0.9958 - val_accuracy: 0.6140\n",
            "Epoch 4/10\n",
            "519/519 [==============================] - 21s 40ms/step - loss: 0.9616 - accuracy: 0.6533 - val_loss: 0.9480 - val_accuracy: 0.6545\n",
            "Epoch 5/10\n",
            "519/519 [==============================] - 21s 40ms/step - loss: 0.9380 - accuracy: 0.6653 - val_loss: 0.9238 - val_accuracy: 0.6667\n",
            "Epoch 6/10\n",
            "519/519 [==============================] - 21s 40ms/step - loss: 0.9083 - accuracy: 0.6771 - val_loss: 0.8436 - val_accuracy: 0.6995\n",
            "Epoch 7/10\n",
            "519/519 [==============================] - 21s 40ms/step - loss: 0.9171 - accuracy: 0.6724 - val_loss: 0.9064 - val_accuracy: 0.6902\n",
            "Epoch 8/10\n",
            "519/519 [==============================] - 21s 40ms/step - loss: 0.9128 - accuracy: 0.6763 - val_loss: 0.8494 - val_accuracy: 0.7012\n",
            "Epoch 9/10\n",
            "519/519 [==============================] - 21s 40ms/step - loss: 0.8835 - accuracy: 0.6857 - val_loss: 0.8253 - val_accuracy: 0.7158\n",
            "Epoch 10/10\n",
            "519/519 [==============================] - 21s 40ms/step - loss: 0.8775 - accuracy: 0.6898 - val_loss: 0.8242 - val_accuracy: 0.7069\n"
          ],
          "name": "stdout"
        }
      ]
    },
    {
      "cell_type": "code",
      "metadata": {
        "colab": {
          "base_uri": "https://localhost:8080/",
          "height": 590
        },
        "id": "yHAEqYn5DLjs",
        "outputId": "95598c89-7174-445f-c999-deeecdf4cc36"
      },
      "source": [
        "\n",
        "print(history.history.keys())\n",
        "\n",
        "plt.plot(history.history['accuracy'])\n",
        "plt.plot(history.history['val_accuracy'])\n",
        "plt.title('model accuracy')\n",
        "plt.ylabel('accuracy')\n",
        "plt.xlabel('epoch')\n",
        "plt.legend(['train', 'test'], loc='upper left')\n",
        "plt.show()\n",
        "\n",
        "plt.plot(history.history['loss'])\n",
        "plt.plot(history.history['val_loss'])\n",
        "plt.title('model loss')\n",
        "plt.ylabel('loss')\n",
        "plt.xlabel('epoch')\n",
        "plt.legend(['train', 'test'], loc='upper left')\n",
        "plt.show()\n",
        "\n",
        "# Source: https://machinelearningmastery.com/display-deep-learning-model-training-history-in-keras/"
      ],
      "execution_count": 260,
      "outputs": [
        {
          "output_type": "stream",
          "text": [
            "dict_keys(['loss', 'accuracy', 'val_loss', 'val_accuracy'])\n"
          ],
          "name": "stdout"
        },
        {
          "output_type": "display_data",
          "data": {
            "image/png": "[encoded data removed]",
            "text/plain": [
              "<Figure size 432x288 with 1 Axes>"
            ]
          },
          "metadata": {
            "tags": [],
            "needs_background": "light"
          }
        },
        {
          "output_type": "display_data",
          "data": {
            "image/png": "[encoded data removed]",
            "text/plain": [
              "<Figure size 432x288 with 1 Axes>"
            ]
          },
          "metadata": {
            "tags": [],
            "needs_background": "light"
          }
        }
      ]
    },
    {
      "cell_type": "markdown",
      "metadata": {
        "id": "SxOpuR0GDVd1"
      },
      "source": [
        "#### The **momentum factor** is too large and it is skipping the minimum point with huge steps. Therefore, it is giving worse results in compare to the momentum = 0.5 case"
      ]
    },
    {
      "cell_type": "code",
      "metadata": {
        "colab": {
          "base_uri": "https://localhost:8080/"
        },
        "id": "TczoPEC_69jk",
        "outputId": "53ce335b-61b6-425a-956b-3b614ca9c8cb"
      },
      "source": [
        "y_pred = model.predict(TestData, verbose = 1)\n",
        "y_pred_bool = np.argmax(y_pred, axis = 1)\n",
        "\n",
        "y_true = np.array(TestData.labels)\n",
        "\n",
        "print(classification_report(y_true, y_pred_bool))"
      ],
      "execution_count": 261,
      "outputs": [
        {
          "output_type": "stream",
          "text": [
            "223/223 [==============================] - 6s 27ms/step\n",
            "              precision    recall  f1-score   support\n",
            "\n",
            "           0       0.31      0.02      0.03       515\n",
            "           1       0.54      0.74      0.63      1186\n",
            "           2       0.76      0.72      0.74      1056\n",
            "           3       0.80      0.72      0.76      1334\n",
            "           4       0.74      0.80      0.77      3020\n",
            "\n",
            "    accuracy                           0.71      7111\n",
            "   macro avg       0.63      0.60      0.58      7111\n",
            "weighted avg       0.69      0.71      0.69      7111\n",
            "\n"
          ],
          "name": "stdout"
        }
      ]
    },
    {
      "cell_type": "markdown",
      "metadata": {
        "id": "-YONtCtB7IXp"
      },
      "source": [
        "### Results Compared:\n",
        "\n",
        "X                  | Momentum = 0 | Momentum = 0.5 | Momentum = 0.9 |\n",
        "-------------------|--------------|----------------|----------------|\n",
        "Accuracy           | 68%          |         69%    |          71%   |"
      ]
    },
    {
      "cell_type": "markdown",
      "metadata": {
        "id": "IraLS8707xEk"
      },
      "source": [
        "A too large momentum value might cause the algorithm to jump over the minimum value with a huge step."
      ]
    },
    {
      "cell_type": "markdown",
      "metadata": {
        "id": "73i6_5VT9a2t"
      },
      "source": [
        "## **Adam Optimizer**"
      ]
    },
    {
      "cell_type": "code",
      "metadata": {
        "id": "ePo_tgvO-s1W"
      },
      "source": [
        "model = models.Model(inputs = input, outputs = output)\n",
        "\n",
        "model.compile(optimizer = optimizers.Adam(), loss = \"categorical_crossentropy\", metrics = [\"accuracy\"])"
      ],
      "execution_count": 262,
      "outputs": []
    },
    {
      "cell_type": "code",
      "metadata": {
        "id": "A-1WKefm-8Qt",
        "colab": {
          "base_uri": "https://localhost:8080/"
        },
        "outputId": "63e1c510-0caa-45df-91ee-feec445e6d56"
      },
      "source": [
        "history = model.fit(TrainData, validation_data = TestData, epochs = 10)"
      ],
      "execution_count": 263,
      "outputs": [
        {
          "output_type": "stream",
          "text": [
            "Epoch 1/10\n",
            "519/519 [==============================] - 21s 41ms/step - loss: 0.9073 - accuracy: 0.6793 - val_loss: 0.8679 - val_accuracy: 0.6943\n",
            "Epoch 2/10\n",
            "519/519 [==============================] - 21s 40ms/step - loss: 0.8723 - accuracy: 0.6934 - val_loss: 0.9802 - val_accuracy: 0.6422\n",
            "Epoch 3/10\n",
            "519/519 [==============================] - 21s 40ms/step - loss: 0.8613 - accuracy: 0.6945 - val_loss: 0.8656 - val_accuracy: 0.6972\n",
            "Epoch 4/10\n",
            "519/519 [==============================] - 21s 40ms/step - loss: 0.8476 - accuracy: 0.7004 - val_loss: 0.8628 - val_accuracy: 0.6981\n",
            "Epoch 5/10\n",
            "519/519 [==============================] - 21s 40ms/step - loss: 0.8337 - accuracy: 0.7075 - val_loss: 0.9379 - val_accuracy: 0.6635\n",
            "Epoch 6/10\n",
            "519/519 [==============================] - 21s 40ms/step - loss: 0.8270 - accuracy: 0.7090 - val_loss: 0.8197 - val_accuracy: 0.7135\n",
            "Epoch 7/10\n",
            "519/519 [==============================] - 21s 40ms/step - loss: 0.8215 - accuracy: 0.7121 - val_loss: 0.8594 - val_accuracy: 0.6989\n",
            "Epoch 8/10\n",
            "519/519 [==============================] - 21s 40ms/step - loss: 0.8155 - accuracy: 0.7152 - val_loss: 0.8738 - val_accuracy: 0.6856\n",
            "Epoch 9/10\n",
            "519/519 [==============================] - 21s 40ms/step - loss: 0.8125 - accuracy: 0.7157 - val_loss: 0.7984 - val_accuracy: 0.7207\n",
            "Epoch 10/10\n",
            "519/519 [==============================] - 21s 40ms/step - loss: 0.7895 - accuracy: 0.7226 - val_loss: 0.8808 - val_accuracy: 0.6937\n"
          ],
          "name": "stdout"
        }
      ]
    },
    {
      "cell_type": "code",
      "metadata": {
        "colab": {
          "base_uri": "https://localhost:8080/",
          "height": 590
        },
        "id": "jdHL3uxsBO35",
        "outputId": "cbd9301f-8450-4bf2-9b95-880db28b626a"
      },
      "source": [
        "\n",
        "print(history.history.keys())\n",
        "\n",
        "plt.plot(history.history['accuracy'])\n",
        "plt.plot(history.history['val_accuracy'])\n",
        "plt.title('model accuracy')\n",
        "plt.ylabel('accuracy')\n",
        "plt.xlabel('epoch')\n",
        "plt.legend(['train', 'test'], loc='upper left')\n",
        "plt.show()\n",
        "\n",
        "plt.plot(history.history['loss'])\n",
        "plt.plot(history.history['val_loss'])\n",
        "plt.title('model loss')\n",
        "plt.ylabel('loss')\n",
        "plt.xlabel('epoch')\n",
        "plt.legend(['train', 'test'], loc='upper left')\n",
        "plt.show()\n",
        "\n",
        "# Source: https://machinelearningmastery.com/display-deep-learning-model-training-history-in-keras/"
      ],
      "execution_count": 264,
      "outputs": [
        {
          "output_type": "stream",
          "text": [
            "dict_keys(['loss', 'accuracy', 'val_loss', 'val_accuracy'])\n"
          ],
          "name": "stdout"
        },
        {
          "output_type": "display_data",
          "data": {
            "image/png": "[encoded data removed]",
            "text/plain": [
              "<Figure size 432x288 with 1 Axes>"
            ]
          },
          "metadata": {
            "tags": [],
            "needs_background": "light"
          }
        },
        {
          "output_type": "display_data",
          "data": {
            "image/png": "[encoded data removed]",
            "text/plain": [
              "<Figure size 432x288 with 1 Axes>"
            ]
          },
          "metadata": {
            "tags": [],
            "needs_background": "light"
          }
        }
      ]
    },
    {
      "cell_type": "code",
      "metadata": {
        "colab": {
          "base_uri": "https://localhost:8080/"
        },
        "id": "Q466aYlRF8bF",
        "outputId": "e4253430-1e3b-4a4f-e975-cddccdb8fe47"
      },
      "source": [
        "y_pred = model.predict(TestData, verbose = 1)\n",
        "y_pred_bool = np.argmax(y_pred, axis = 1)\n",
        "\n",
        "y_true = np.array(TestData.labels)\n",
        "\n",
        "print(classification_report(y_true, y_pred_bool))"
      ],
      "execution_count": 266,
      "outputs": [
        {
          "output_type": "stream",
          "text": [
            "223/223 [==============================] - 6s 27ms/step\n",
            "              precision    recall  f1-score   support\n",
            "\n",
            "           0       0.21      0.03      0.06       515\n",
            "           1       0.75      0.34      0.47      1186\n",
            "           2       0.76      0.69      0.72      1056\n",
            "           3       0.68      0.82      0.75      1334\n",
            "           4       0.69      0.89      0.77      3020\n",
            "\n",
            "    accuracy                           0.69      7111\n",
            "   macro avg       0.62      0.56      0.55      7111\n",
            "weighted avg       0.67      0.69      0.66      7111\n",
            "\n"
          ],
          "name": "stdout"
        }
      ]
    },
    {
      "cell_type": "markdown",
      "metadata": {
        "id": "b5OhL7MR_-57"
      },
      "source": [
        "The Adam optimizer isn't resulting as well as the SGD Momentum optimizer."
      ]
    },
    {
      "cell_type": "markdown",
      "metadata": {
        "id": "PczbJcXUJXH3"
      },
      "source": [
        "## **Epochs**"
      ]
    },
    {
      "cell_type": "code",
      "metadata": {
        "id": "JqNbQ_4OJkWu"
      },
      "source": [
        "model = models.Model(inputs = input, outputs = output)\n",
        "\n",
        "model.compile(optimizer = optimizers.Adam(), loss = \"categorical_crossentropy\", metrics = [\"accuracy\"])"
      ],
      "execution_count": 268,
      "outputs": []
    },
    {
      "cell_type": "code",
      "metadata": {
        "colab": {
          "base_uri": "https://localhost:8080/"
        },
        "id": "-M9oay9WJ2CT",
        "outputId": "ca2dca17-2bef-41bc-96e1-5c557f92be79"
      },
      "source": [
        "history = model.fit(TrainData, validation_data = TestData, epochs = 20)"
      ],
      "execution_count": 269,
      "outputs": [
        {
          "output_type": "stream",
          "text": [
            "Epoch 1/20\n",
            "519/519 [==============================] - 21s 40ms/step - loss: 0.8099 - accuracy: 0.7133 - val_loss: 0.8017 - val_accuracy: 0.7207\n",
            "Epoch 2/20\n",
            "519/519 [==============================] - 21s 40ms/step - loss: 0.7886 - accuracy: 0.7246 - val_loss: 0.8146 - val_accuracy: 0.7120\n",
            "Epoch 3/20\n",
            "519/519 [==============================] - 21s 41ms/step - loss: 0.7815 - accuracy: 0.7270 - val_loss: 0.7949 - val_accuracy: 0.7234\n",
            "Epoch 4/20\n",
            "519/519 [==============================] - 21s 40ms/step - loss: 0.7781 - accuracy: 0.7278 - val_loss: 0.7990 - val_accuracy: 0.7263\n",
            "Epoch 5/20\n",
            "519/519 [==============================] - 22s 42ms/step - loss: 0.7740 - accuracy: 0.7286 - val_loss: 0.9313 - val_accuracy: 0.6766\n",
            "Epoch 6/20\n",
            "519/519 [==============================] - 22s 42ms/step - loss: 0.7673 - accuracy: 0.7336 - val_loss: 0.8451 - val_accuracy: 0.7036\n",
            "Epoch 7/20\n",
            "519/519 [==============================] - 21s 40ms/step - loss: 0.7671 - accuracy: 0.7329 - val_loss: 0.8126 - val_accuracy: 0.7185\n",
            "Epoch 8/20\n",
            "519/519 [==============================] - 21s 40ms/step - loss: 0.7552 - accuracy: 0.7370 - val_loss: 0.8665 - val_accuracy: 0.6954\n",
            "Epoch 9/20\n",
            "519/519 [==============================] - 21s 40ms/step - loss: 0.7644 - accuracy: 0.7291 - val_loss: 0.8327 - val_accuracy: 0.7038\n",
            "Epoch 10/20\n",
            "519/519 [==============================] - 21s 40ms/step - loss: 0.7492 - accuracy: 0.7359 - val_loss: 0.8086 - val_accuracy: 0.7149\n",
            "Epoch 11/20\n",
            "519/519 [==============================] - 21s 40ms/step - loss: 0.7456 - accuracy: 0.7407 - val_loss: 0.7872 - val_accuracy: 0.7268\n",
            "Epoch 12/20\n",
            "519/519 [==============================] - 21s 40ms/step - loss: 0.7475 - accuracy: 0.7355 - val_loss: 0.8502 - val_accuracy: 0.7005\n",
            "Epoch 13/20\n",
            "519/519 [==============================] - 21s 40ms/step - loss: 0.7429 - accuracy: 0.7362 - val_loss: 0.8308 - val_accuracy: 0.7097\n",
            "Epoch 14/20\n",
            "519/519 [==============================] - 21s 40ms/step - loss: 0.7277 - accuracy: 0.7427 - val_loss: 0.8186 - val_accuracy: 0.7117\n",
            "Epoch 15/20\n",
            "519/519 [==============================] - 21s 40ms/step - loss: 0.7338 - accuracy: 0.7397 - val_loss: 0.8280 - val_accuracy: 0.7117\n",
            "Epoch 16/20\n",
            "519/519 [==============================] - 21s 40ms/step - loss: 0.7271 - accuracy: 0.7429 - val_loss: 0.8324 - val_accuracy: 0.7100\n",
            "Epoch 17/20\n",
            "519/519 [==============================] - 21s 40ms/step - loss: 0.7308 - accuracy: 0.7415 - val_loss: 0.8016 - val_accuracy: 0.7159\n",
            "Epoch 18/20\n",
            "519/519 [==============================] - 21s 40ms/step - loss: 0.7244 - accuracy: 0.7459 - val_loss: 0.7997 - val_accuracy: 0.7213\n",
            "Epoch 19/20\n",
            "519/519 [==============================] - 21s 40ms/step - loss: 0.7197 - accuracy: 0.7478 - val_loss: 0.8651 - val_accuracy: 0.7013\n",
            "Epoch 20/20\n",
            "519/519 [==============================] - 21s 40ms/step - loss: 0.7117 - accuracy: 0.7460 - val_loss: 0.8272 - val_accuracy: 0.7186\n"
          ],
          "name": "stdout"
        }
      ]
    },
    {
      "cell_type": "code",
      "metadata": {
        "colab": {
          "base_uri": "https://localhost:8080/",
          "height": 590
        },
        "id": "rL4I0ajqOeOt",
        "outputId": "25393fcb-520e-46dd-9a08-f174e08562ed"
      },
      "source": [
        "\n",
        "print(history.history.keys())\n",
        "\n",
        "plt.plot(history.history['accuracy'])\n",
        "plt.plot(history.history['val_accuracy'])\n",
        "plt.title('model accuracy')\n",
        "plt.ylabel('accuracy')\n",
        "plt.xlabel('epoch')\n",
        "plt.legend(['train', 'test'], loc='upper left')\n",
        "plt.show()\n",
        "\n",
        "plt.plot(history.history['loss'])\n",
        "plt.plot(history.history['val_loss'])\n",
        "plt.title('model loss')\n",
        "plt.ylabel('loss')\n",
        "plt.xlabel('epoch')\n",
        "plt.legend(['train', 'test'], loc='upper left')\n",
        "plt.show()\n",
        "\n",
        "# Source: https://machinelearningmastery.com/display-deep-learning-model-training-history-in-keras/"
      ],
      "execution_count": 270,
      "outputs": [
        {
          "output_type": "stream",
          "text": [
            "dict_keys(['loss', 'accuracy', 'val_loss', 'val_accuracy'])\n"
          ],
          "name": "stdout"
        },
        {
          "output_type": "display_data",
          "data": {
            "image/png": "[encoded data removed]",
            "text/plain": [
              "<Figure size 432x288 with 1 Axes>"
            ]
          },
          "metadata": {
            "tags": [],
            "needs_background": "light"
          }
        },
        {
          "output_type": "display_data",
          "data": {
            "image/png": "[encoded data removed]",
            "text/plain": [
              "<Figure size 432x288 with 1 Axes>"
            ]
          },
          "metadata": {
            "tags": [],
            "needs_background": "light"
          }
        }
      ]
    },
    {
      "cell_type": "code",
      "metadata": {
        "colab": {
          "base_uri": "https://localhost:8080/"
        },
        "id": "XoT9LnojOyIx",
        "outputId": "949a0ac5-cb2d-45cd-cf1b-6055db3cccbf"
      },
      "source": [
        "y_pred = model.predict(TestData, verbose = 1)\n",
        "y_pred_bool = np.argmax(y_pred, axis = 1)\n",
        "\n",
        "y_true = np.array(TestData.labels)\n",
        "\n",
        "print(classification_report(y_true, y_pred_bool))"
      ],
      "execution_count": 271,
      "outputs": [
        {
          "output_type": "stream",
          "text": [
            "223/223 [==============================] - 6s 27ms/step\n",
            "              precision    recall  f1-score   support\n",
            "\n",
            "           0       0.30      0.01      0.01       515\n",
            "           1       0.69      0.58      0.63      1186\n",
            "           2       0.80      0.65      0.72      1056\n",
            "           3       0.82      0.74      0.78      1334\n",
            "           4       0.68      0.91      0.78      3020\n",
            "\n",
            "    accuracy                           0.72      7111\n",
            "   macro avg       0.66      0.58      0.58      7111\n",
            "weighted avg       0.70      0.72      0.69      7111\n",
            "\n"
          ],
          "name": "stdout"
        }
      ]
    },
    {
      "cell_type": "markdown",
      "metadata": {
        "id": "PeZkoiLpPVg8"
      },
      "source": [
        "##### As the number of epochs increases, we get closer to overfitting. In other words, the difference between the train accuracy and test accuracy increases. The train accuracy becomes better and the test accuracy becomes worse.\n",
        "##### Therefore, using a higher number of epochs isn't always a good idea. \n",
        "\n",
        "##### We should try different epoch sizes to prevent both underfitting and overfitting."
      ]
    },
    {
      "cell_type": "markdown",
      "metadata": {
        "id": "spQKAJTxRSSh"
      },
      "source": [
        "## **Loss Functions**"
      ]
    },
    {
      "cell_type": "code",
      "metadata": {
        "id": "9EPZUYadRZlE"
      },
      "source": [
        "model = models.Model(inputs = input, outputs = output)\n",
        "\n",
        "model.compile(optimizer = optimizers.Adam(), loss = \"mean_squared_error\", metrics = [\"accuracy\"])"
      ],
      "execution_count": 274,
      "outputs": []
    },
    {
      "cell_type": "code",
      "metadata": {
        "colab": {
          "base_uri": "https://localhost:8080/"
        },
        "id": "9IXQqJ4-S2f9",
        "outputId": "e49d696a-da74-42c9-95bb-54f65c14202b"
      },
      "source": [
        "history = model.fit(TrainData, validation_data = TestData, epochs = 10)"
      ],
      "execution_count": 275,
      "outputs": [
        {
          "output_type": "stream",
          "text": [
            "Epoch 1/10\n",
            "519/519 [==============================] - 21s 40ms/step - loss: 0.1156 - accuracy: 0.6936 - val_loss: 0.1187 - val_accuracy: 0.6818\n",
            "Epoch 2/10\n",
            "519/519 [==============================] - 21s 40ms/step - loss: 0.1091 - accuracy: 0.6999 - val_loss: 0.1037 - val_accuracy: 0.7016\n",
            "Epoch 3/10\n",
            "519/519 [==============================] - 21s 40ms/step - loss: 0.0942 - accuracy: 0.7160 - val_loss: 0.0949 - val_accuracy: 0.6857\n",
            "Epoch 4/10\n",
            "519/519 [==============================] - 21s 40ms/step - loss: 0.0778 - accuracy: 0.7379 - val_loss: 0.0835 - val_accuracy: 0.7180\n",
            "Epoch 5/10\n",
            "519/519 [==============================] - 21s 40ms/step - loss: 0.0740 - accuracy: 0.7441 - val_loss: 0.0798 - val_accuracy: 0.7232\n",
            "Epoch 6/10\n",
            "519/519 [==============================] - 21s 40ms/step - loss: 0.0723 - accuracy: 0.7509 - val_loss: 0.0840 - val_accuracy: 0.7186\n",
            "Epoch 7/10\n",
            "519/519 [==============================] - 21s 40ms/step - loss: 0.0728 - accuracy: 0.7488 - val_loss: 0.0795 - val_accuracy: 0.7251\n",
            "Epoch 8/10\n",
            "519/519 [==============================] - 21s 40ms/step - loss: 0.0712 - accuracy: 0.7511 - val_loss: 0.0805 - val_accuracy: 0.7254\n",
            "Epoch 9/10\n",
            "519/519 [==============================] - 21s 40ms/step - loss: 0.0723 - accuracy: 0.7482 - val_loss: 0.0829 - val_accuracy: 0.7104\n",
            "Epoch 10/10\n",
            "519/519 [==============================] - 21s 40ms/step - loss: 0.0719 - accuracy: 0.7522 - val_loss: 0.0780 - val_accuracy: 0.7299\n"
          ],
          "name": "stdout"
        }
      ]
    },
    {
      "cell_type": "code",
      "metadata": {
        "colab": {
          "base_uri": "https://localhost:8080/",
          "height": 590
        },
        "id": "RmtbRTOqUFk3",
        "outputId": "7d50971f-42e4-487a-e618-d4bc029c41df"
      },
      "source": [
        "print(history.history.keys())\n",
        "\n",
        "plt.plot(history.history['accuracy'])\n",
        "plt.plot(history.history['val_accuracy'])\n",
        "plt.title('model accuracy')\n",
        "plt.ylabel('accuracy')\n",
        "plt.xlabel('epoch')\n",
        "plt.legend(['train', 'test'], loc='upper left')\n",
        "plt.show()\n",
        "\n",
        "plt.plot(history.history['loss'])\n",
        "plt.plot(history.history['val_loss'])\n",
        "plt.title('model loss')\n",
        "plt.ylabel('loss')\n",
        "plt.xlabel('epoch')\n",
        "plt.legend(['train', 'test'], loc='upper left')\n",
        "plt.show()\n",
        "\n",
        "# Source: https://machinelearningmastery.com/display-deep-learning-model-training-history-in-keras/"
      ],
      "execution_count": 276,
      "outputs": [
        {
          "output_type": "stream",
          "text": [
            "dict_keys(['loss', 'accuracy', 'val_loss', 'val_accuracy'])\n"
          ],
          "name": "stdout"
        },
        {
          "output_type": "display_data",
          "data": {
            "image/png": "[encoded data removed]",
            "text/plain": [
              "<Figure size 432x288 with 1 Axes>"
            ]
          },
          "metadata": {
            "tags": [],
            "needs_background": "light"
          }
        },
        {
          "output_type": "display_data",
          "data": {
            "image/png": "[encoded data removed]",
            "text/plain": [
              "<Figure size 432x288 with 1 Axes>"
            ]
          },
          "metadata": {
            "tags": [],
            "needs_background": "light"
          }
        }
      ]
    },
    {
      "cell_type": "code",
      "metadata": {
        "colab": {
          "base_uri": "https://localhost:8080/"
        },
        "id": "J-Ncae1fT-Zp",
        "outputId": "ba2dd5db-17ba-4bf1-b09d-7c547cd80371"
      },
      "source": [
        "y_pred = model.predict(TestData, verbose = 1)\n",
        "y_pred_bool = np.argmax(y_pred, axis = 1)\n",
        "\n",
        "y_true = np.array(TestData.labels)\n",
        "\n",
        "print(classification_report(y_true, y_pred_bool))"
      ],
      "execution_count": 277,
      "outputs": [
        {
          "output_type": "stream",
          "text": [
            "223/223 [==============================] - 6s 28ms/step\n",
            "              precision    recall  f1-score   support\n",
            "\n",
            "           0       0.29      0.04      0.08       515\n",
            "           1       0.69      0.62      0.65      1186\n",
            "           2       0.71      0.77      0.74      1056\n",
            "           3       0.75      0.81      0.78      1334\n",
            "           4       0.75      0.84      0.79      3020\n",
            "\n",
            "    accuracy                           0.73      7111\n",
            "   macro avg       0.64      0.62      0.61      7111\n",
            "weighted avg       0.70      0.73      0.71      7111\n",
            "\n"
          ],
          "name": "stdout"
        }
      ]
    },
    {
      "cell_type": "markdown",
      "metadata": {
        "id": "MwELnJ9cVLwm"
      },
      "source": [
        "#### MSE isn't an appropriate loss function for classification problems for two main reasons:\n",
        "\n",
        "1. Using MSE means that we assume that the underlying data has been generated from a normal distribution. By applying the maximum likelihood estimation (MLE),assuming that the data is from a normal distribution(a wrong assumption, by the way), we get the MSE as a Cost function for optimizing our model. \n",
        "\n",
        "$$ \\text{MSE} = \\frac{1}{2m} \\sum_{i = 1}^{m} (y^{(i)} - \\hat{y}^{(i)})^2 $$\n",
        "\n",
        "2. The MSE function is non-convex for binary classification. In simple terms, if a binary classification model is trained with MSE Cost function, it is not guaranteed to minimize the Cost function. This is because MSE function expects real-valued inputs in range(-∞, ∞), while binary classification models output probabilities in range(0,1) through the sigmoid/logistic function."
      ]
    },
    {
      "cell_type": "markdown",
      "metadata": {
        "id": "AzEyPSMBZEXS"
      },
      "source": [
        "## **Regularization**\n"
      ]
    },
    {
      "cell_type": "code",
      "metadata": {
        "id": "o9rdFax3ZKWh"
      },
      "source": [
        "input = layers.Input(shape = (100, 100, 1))\n",
        "\n",
        "output = layers.Flatten()(input)\n",
        "output = layers.Dense(1024, activation = \"relu\", kernel_regularizer = tf.keras.regularizers.l2(l2 = 0.0001))(output)\n",
        "output = layers.Dense(512, activation = \"relu\", kernel_regularizer = tf.keras.regularizers.l2(l2 = 0.0001))(output)\n",
        "output = layers.Dense(5, activation = \"softmax\", kernel_regularizer = tf.keras.regularizers.l2(l2 = 0.0001))(output)"
      ],
      "execution_count": 226,
      "outputs": []
    },
    {
      "cell_type": "code",
      "metadata": {
        "id": "EhgCixKQZj_s"
      },
      "source": [
        "model = models.Model(inputs = input, outputs = output)"
      ],
      "execution_count": 227,
      "outputs": []
    },
    {
      "cell_type": "code",
      "metadata": {
        "id": "VjqHih4xZrDi"
      },
      "source": [
        "model.compile(optimizer = optimizers.Adam(), loss = \"categorical_crossentropy\", metrics = [\"accuracy\"])"
      ],
      "execution_count": 228,
      "outputs": []
    },
    {
      "cell_type": "code",
      "metadata": {
        "colab": {
          "base_uri": "https://localhost:8080/"
        },
        "id": "yDPqKFhxbCrr",
        "outputId": "3243c26f-33ef-4b49-db3f-10a87f7f2f25"
      },
      "source": [
        "history = model.fit(TrainData, validation_data = TestData, epochs = 10)"
      ],
      "execution_count": 229,
      "outputs": [
        {
          "output_type": "stream",
          "text": [
            "Epoch 1/10\n",
            "519/519 [==============================] - 22s 42ms/step - loss: 1.5462 - accuracy: 0.5274 - val_loss: 1.5576 - val_accuracy: 0.5198\n",
            "Epoch 2/10\n",
            "519/519 [==============================] - 22s 42ms/step - loss: 1.1607 - accuracy: 0.6132 - val_loss: 1.2048 - val_accuracy: 0.5944\n",
            "Epoch 3/10\n",
            "519/519 [==============================] - 23s 44ms/step - loss: 1.0551 - accuracy: 0.6425 - val_loss: 0.9721 - val_accuracy: 0.6760\n",
            "Epoch 4/10\n",
            "519/519 [==============================] - 22s 42ms/step - loss: 0.9990 - accuracy: 0.6643 - val_loss: 1.0519 - val_accuracy: 0.6505\n",
            "Epoch 5/10\n",
            "519/519 [==============================] - 21s 41ms/step - loss: 0.9802 - accuracy: 0.6683 - val_loss: 0.9372 - val_accuracy: 0.6899\n",
            "Epoch 6/10\n",
            "519/519 [==============================] - 21s 41ms/step - loss: 0.9440 - accuracy: 0.6808 - val_loss: 0.9676 - val_accuracy: 0.6705\n",
            "Epoch 7/10\n",
            "519/519 [==============================] - 21s 41ms/step - loss: 0.9131 - accuracy: 0.6898 - val_loss: 0.8713 - val_accuracy: 0.7059\n",
            "Epoch 8/10\n",
            "519/519 [==============================] - 21s 41ms/step - loss: 0.9147 - accuracy: 0.6840 - val_loss: 0.8562 - val_accuracy: 0.7090\n",
            "Epoch 9/10\n",
            "519/519 [==============================] - 21s 41ms/step - loss: 0.9014 - accuracy: 0.6926 - val_loss: 0.8884 - val_accuracy: 0.6933\n",
            "Epoch 10/10\n",
            "519/519 [==============================] - 21s 41ms/step - loss: 0.8883 - accuracy: 0.6962 - val_loss: 0.8725 - val_accuracy: 0.7022\n"
          ],
          "name": "stdout"
        }
      ]
    },
    {
      "cell_type": "code",
      "metadata": {
        "colab": {
          "base_uri": "https://localhost:8080/",
          "height": 590
        },
        "id": "cwnWGEiNgllm",
        "outputId": "5beb9c4c-aded-45de-dddc-1b063ed44e66"
      },
      "source": [
        "print(history.history.keys())\n",
        "\n",
        "plt.plot(history.history['accuracy'])\n",
        "plt.plot(history.history['val_accuracy'])\n",
        "plt.title('model accuracy')\n",
        "plt.ylabel('accuracy')\n",
        "plt.xlabel('epoch')\n",
        "plt.legend(['train', 'test'], loc='upper left')\n",
        "plt.show()\n",
        "\n",
        "plt.plot(history.history['loss'])\n",
        "plt.plot(history.history['val_loss'])\n",
        "plt.title('model loss')\n",
        "plt.ylabel('loss')\n",
        "plt.xlabel('epoch')\n",
        "plt.legend(['train', 'test'], loc='upper left')\n",
        "plt.show()\n",
        "\n",
        "# Source: https://machinelearningmastery.com/display-deep-learning-model-training-history-in-keras/"
      ],
      "execution_count": 230,
      "outputs": [
        {
          "output_type": "stream",
          "text": [
            "dict_keys(['loss', 'accuracy', 'val_loss', 'val_accuracy'])\n"
          ],
          "name": "stdout"
        },
        {
          "output_type": "display_data",
          "data": {
            "image/png": "[encoded data removed]",
            "text/plain": [
              "<Figure size 432x288 with 1 Axes>"
            ]
          },
          "metadata": {
            "tags": [],
            "needs_background": "light"
          }
        },
        {
          "output_type": "display_data",
          "data": {
            "image/png": "[encoded data removed]",
            "text/plain": [
              "<Figure size 432x288 with 1 Axes>"
            ]
          },
          "metadata": {
            "tags": [],
            "needs_background": "light"
          }
        }
      ]
    },
    {
      "cell_type": "markdown",
      "metadata": {
        "id": "JnAuW1pZeLz_"
      },
      "source": [
        "#### Regularizations are techniques used to reduce the error by fitting a function appropriately on the given training set and avoid overfitting.\n",
        "\n",
        "\n",
        "#### As it can be seen from the plot, the model is far away from overfitting since the weights are kept at a low value due to regularization. \n",
        "\n",
        "#### We could say that the model is overfitting if there was a significant difference in the train accuracy and test accuracy. \n",
        "\n",
        "#### Here, even the train accuracy is more than train accuracy!\n"
      ]
    },
    {
      "cell_type": "code",
      "metadata": {
        "colab": {
          "base_uri": "https://localhost:8080/"
        },
        "id": "T0lLmnZgjHju",
        "outputId": "71d59cd9-d133-49b1-fcea-26da66908cfb"
      },
      "source": [
        "y_pred = model.predict(TestData, verbose = 1)\n",
        "y_pred_bool = np.argmax(y_pred, axis = 1)\n",
        "\n",
        "y_true = np.array(TestData.labels)\n",
        "\n",
        "print(classification_report(y_true, y_pred_bool))"
      ],
      "execution_count": 232,
      "outputs": [
        {
          "output_type": "stream",
          "text": [
            "223/223 [==============================] - 6s 28ms/step\n",
            "              precision    recall  f1-score   support\n",
            "\n",
            "           0       0.23      0.01      0.01       515\n",
            "           1       0.65      0.55      0.59      1186\n",
            "           2       0.83      0.58      0.68      1056\n",
            "           3       0.72      0.81      0.76      1334\n",
            "           4       0.69      0.88      0.77      3020\n",
            "\n",
            "    accuracy                           0.70      7111\n",
            "   macro avg       0.62      0.56      0.56      7111\n",
            "weighted avg       0.67      0.70      0.67      7111\n",
            "\n"
          ],
          "name": "stdout"
        }
      ]
    },
    {
      "cell_type": "code",
      "metadata": {
        "id": "skdpwKHikIjO"
      },
      "source": [
        "input = layers.Input(shape = (100, 100, 1))\n",
        "\n",
        "output = layers.Flatten()(input)\n",
        "\n",
        "output = layers.Dense(1024, activation = \"relu\")(output)\n",
        "output = layers.Dropout(0.1)(output)\n",
        "output = layers.Dense(512, activation = \"relu\")(output)\n",
        "output = layers.Dropout(0.1)(output)\n",
        "output = layers.Dense(5, activation = \"softmax\")(output)\n",
        "output = layers.Dropout(0.1)(output)"
      ],
      "execution_count": 245,
      "outputs": []
    },
    {
      "cell_type": "code",
      "metadata": {
        "id": "R9cQNR2Umx8y"
      },
      "source": [
        "model = models.Model(inputs = input, outputs = output)"
      ],
      "execution_count": 246,
      "outputs": []
    },
    {
      "cell_type": "code",
      "metadata": {
        "id": "y6g1l_10m1E-"
      },
      "source": [
        "model.compile(optimizer = optimizers.SGD(learning_rate = 0.01), loss = \"categorical_crossentropy\", metrics = [\"accuracy\"])"
      ],
      "execution_count": 247,
      "outputs": []
    },
    {
      "cell_type": "code",
      "metadata": {
        "colab": {
          "base_uri": "https://localhost:8080/"
        },
        "id": "wv14lA0fos2i",
        "outputId": "9c1753d8-23ce-453d-b89d-0b101814499f"
      },
      "source": [
        "history = model.fit(TrainData, validation_data = TestData, epochs = 20)"
      ],
      "execution_count": 248,
      "outputs": [
        {
          "output_type": "stream",
          "text": [
            "Epoch 1/20\n",
            "519/519 [==============================] - 22s 42ms/step - loss: 2.7274 - accuracy: 0.4611 - val_loss: 1.1870 - val_accuracy: 0.5572\n",
            "Epoch 2/20\n",
            "519/519 [==============================] - 22s 42ms/step - loss: 2.5675 - accuracy: 0.5317 - val_loss: 1.0242 - val_accuracy: 0.6330\n",
            "Epoch 3/20\n",
            "519/519 [==============================] - 21s 41ms/step - loss: 2.4793 - accuracy: 0.5644 - val_loss: 0.9561 - val_accuracy: 0.6639\n",
            "Epoch 4/20\n",
            "519/519 [==============================] - 22s 42ms/step - loss: 2.5201 - accuracy: 0.5772 - val_loss: 0.9596 - val_accuracy: 0.6612\n",
            "Epoch 5/20\n",
            "519/519 [==============================] - 22s 42ms/step - loss: 2.4288 - accuracy: 0.5963 - val_loss: 0.9132 - val_accuracy: 0.6714\n",
            "Epoch 6/20\n",
            "519/519 [==============================] - 21s 41ms/step - loss: 2.3490 - accuracy: 0.6071 - val_loss: 0.8792 - val_accuracy: 0.6839\n",
            "Epoch 7/20\n",
            "519/519 [==============================] - 22s 42ms/step - loss: 2.4215 - accuracy: 0.6101 - val_loss: 0.9844 - val_accuracy: 0.6252\n",
            "Epoch 8/20\n",
            "519/519 [==============================] - 22s 42ms/step - loss: nan - accuracy: 0.0755 - val_loss: nan - val_accuracy: 0.0724\n",
            "Epoch 9/20\n",
            "519/519 [==============================] - 21s 41ms/step - loss: nan - accuracy: 0.0709 - val_loss: nan - val_accuracy: 0.0724\n",
            "Epoch 10/20\n",
            "519/519 [==============================] - 22s 42ms/step - loss: nan - accuracy: 0.0709 - val_loss: nan - val_accuracy: 0.0724\n",
            "Epoch 11/20\n",
            "519/519 [==============================] - 22s 42ms/step - loss: nan - accuracy: 0.0709 - val_loss: nan - val_accuracy: 0.0724\n",
            "Epoch 12/20\n",
            "519/519 [==============================] - 21s 41ms/step - loss: nan - accuracy: 0.0709 - val_loss: nan - val_accuracy: 0.0724\n",
            "Epoch 13/20\n",
            "519/519 [==============================] - 22s 42ms/step - loss: nan - accuracy: 0.0709 - val_loss: nan - val_accuracy: 0.0724\n",
            "Epoch 14/20\n",
            "519/519 [==============================] - 22s 42ms/step - loss: nan - accuracy: 0.0709 - val_loss: nan - val_accuracy: 0.0724\n",
            "Epoch 15/20\n",
            "519/519 [==============================] - 22s 42ms/step - loss: nan - accuracy: 0.0709 - val_loss: nan - val_accuracy: 0.0724\n",
            "Epoch 16/20\n",
            "519/519 [==============================] - 22s 42ms/step - loss: nan - accuracy: 0.0709 - val_loss: nan - val_accuracy: 0.0724\n",
            "Epoch 17/20\n",
            "519/519 [==============================] - 22s 42ms/step - loss: nan - accuracy: 0.0709 - val_loss: nan - val_accuracy: 0.0724\n",
            "Epoch 18/20\n",
            "519/519 [==============================] - 22s 42ms/step - loss: nan - accuracy: 0.0709 - val_loss: nan - val_accuracy: 0.0724\n",
            "Epoch 19/20\n",
            "519/519 [==============================] - 22s 42ms/step - loss: nan - accuracy: 0.0709 - val_loss: nan - val_accuracy: 0.0724\n",
            "Epoch 20/20\n",
            "519/519 [==============================] - 22s 42ms/step - loss: nan - accuracy: 0.0709 - val_loss: nan - val_accuracy: 0.0724\n"
          ],
          "name": "stdout"
        }
      ]
    },
    {
      "cell_type": "code",
      "metadata": {
        "colab": {
          "base_uri": "https://localhost:8080/",
          "height": 590
        },
        "id": "hwI3SnLrptnn",
        "outputId": "4d2b9b2c-0c43-44dd-b811-97f72adfeee2"
      },
      "source": [
        "print(history.history.keys())\n",
        "\n",
        "plt.plot(history.history['accuracy'])\n",
        "plt.plot(history.history['val_accuracy'])\n",
        "plt.title('model accuracy')\n",
        "plt.ylabel('accuracy')\n",
        "plt.xlabel('epoch')\n",
        "plt.legend(['train', 'test'], loc='upper left')\n",
        "plt.show()\n",
        "\n",
        "plt.plot(history.history['loss'])\n",
        "plt.plot(history.history['val_loss'])\n",
        "plt.title('model loss')\n",
        "plt.ylabel('loss')\n",
        "plt.xlabel('epoch')\n",
        "plt.legend(['train', 'test'], loc='upper left')\n",
        "plt.show()\n",
        "\n",
        "# Source: https://machinelearningmastery.com/display-deep-learning-model-training-history-in-keras/"
      ],
      "execution_count": 249,
      "outputs": [
        {
          "output_type": "stream",
          "text": [
            "dict_keys(['loss', 'accuracy', 'val_loss', 'val_accuracy'])\n"
          ],
          "name": "stdout"
        },
        {
          "output_type": "display_data",
          "data": {
            "image/png": "[encoded data removed]",
            "text/plain": [
              "<Figure size 432x288 with 1 Axes>"
            ]
          },
          "metadata": {
            "tags": [],
            "needs_background": "light"
          }
        },
        {
          "output_type": "display_data",
          "data": {
            "image/png": "[encoded data removed]",
            "text/plain": [
              "<Figure size 432x288 with 1 Axes>"
            ]
          },
          "metadata": {
            "tags": [],
            "needs_background": "light"
          }
        }
      ]
    },
    {
      "cell_type": "markdown",
      "metadata": {
        "id": "UOC_YufqsRO2"
      },
      "source": [
        "#### The Dropout layer randomly sets input units to 0 with a frequency of rate at each step during training time, which helps prevent overfitting"
      ]
    }
  ]
}