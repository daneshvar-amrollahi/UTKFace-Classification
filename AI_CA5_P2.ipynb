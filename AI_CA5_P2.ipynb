{
  "nbformat": 4,
  "nbformat_minor": 0,
  "metadata": {
    "accelerator": "GPU",
    "colab": {
      "name": "AI-CA5-P2.ipynb",
      "provenance": [],
      "collapsed_sections": [],
      "toc_visible": true,
      "mount_file_id": "1g8dFRgkk83ryamhyyW6bPUOVmFsGibzS",
      "authorship_tag": "ABX9TyNFlvDLAPO6/+DhiIoC0tuK",
      "include_colab_link": true
    },
    "kernelspec": {
      "display_name": "Python 3",
      "name": "python3"
    },
    "language_info": {
      "name": "python"
    }
  },
  "cells": [
    {
      "cell_type": "markdown",
      "metadata": {
        "id": "view-in-github",
        "colab_type": "text"
      },
      "source": [
        "<a href=\"https://colab.research.google.com/github/daneshvar-amrollahi/UTKFace-Classification/blob/main/AI_CA5_P2.ipynb\" target=\"_parent\"><img src=\"https://colab.research.google.com/assets/colab-badge.svg\" alt=\"Open In Colab\"/></a>"
      ]
    },
    {
      "cell_type": "code",
      "metadata": {
        "id": "L_Admqdng2YQ"
      },
      "source": [
        "import numpy as np\n",
        "import tensorflow as tf\n",
        "from tensorflow import keras"
      ],
      "execution_count": 74,
      "outputs": []
    },
    {
      "cell_type": "code",
      "metadata": {
        "colab": {
          "base_uri": "https://localhost:8080/"
        },
        "id": "1Go1-vYbnvB8",
        "outputId": "4692d85f-a3cc-4553-f57c-233cc1b3055a"
      },
      "source": [
        "from google.colab import drive\n",
        "drive.mount('/content/drive')"
      ],
      "execution_count": 75,
      "outputs": [
        {
          "output_type": "stream",
          "text": [
            "Drive already mounted at /content/drive; to attempt to forcibly remount, call drive.mount(\"/content/drive\", force_remount=True).\n"
          ],
          "name": "stdout"
        }
      ]
    },
    {
      "cell_type": "code",
      "metadata": {
        "id": "NGky30V-pMQf"
      },
      "source": [
        "!cp \"/content/drive/MyDrive/CA5/UTKFace.tar.gz\" ."
      ],
      "execution_count": 76,
      "outputs": []
    },
    {
      "cell_type": "code",
      "metadata": {
        "id": "N-EQ0Xrjt-o9"
      },
      "source": [
        "!tar xvzf \"UTKFace.tar.gz\" > dataset_extract_log.txt"
      ],
      "execution_count": 182,
      "outputs": []
    },
    {
      "cell_type": "code",
      "metadata": {
        "id": "s5wCKsFjuUAQ"
      },
      "source": [
        "from tensorflow.keras import *\n",
        "from tensorflow.keras.utils import *\n",
        "import matplotlib.pyplot as plt\n",
        "from sklearn.metrics import classification_report\n",
        "import numpy as np\n",
        "import pandas as pd\n",
        "import tensorboard\n",
        "import os"
      ],
      "execution_count": 78,
      "outputs": []
    },
    {
      "cell_type": "code",
      "metadata": {
        "id": "tU-ArUuxuyh_"
      },
      "source": [
        "img_path = list()\n",
        "Races = list()\n",
        "file_names = list()\n",
        "\n",
        "path = \"/content/UTKFace\"\n",
        "\n",
        "for img in os.listdir(path):\n",
        "  temp = img.split('.')\n",
        "\n",
        "  if (len(temp[0].split('_')) == 4):\n",
        "    img_path.append(os.path.join(path, img))\n",
        "    Age, Gender, Race, Date = temp[0].split('_')\n",
        "    file_names.append(temp[0] + '.' + temp[1])\n",
        "    Races.append(int(Race))\n",
        "  else:\n",
        "    continue\n",
        "\n",
        "classes_labels = {0:\"White\", 1:\"Black\", 2:\"Asian\", 3:\"Indian\", 4:\"Others\"}\n",
        "Races = [str(to_categorical(i, len(classes_labels))) for i in Races]\n",
        "\n",
        "df = pd.DataFrame({\n",
        "    'image': img_path,\n",
        "    'Race': Races\n",
        "})\n"
      ],
      "execution_count": 114,
      "outputs": []
    },
    {
      "cell_type": "code",
      "metadata": {
        "colab": {
          "base_uri": "https://localhost:8080/"
        },
        "id": "KfriBW9Q9Y3c",
        "outputId": "d330364c-9b96-4faa-9f64-d556df271ffc"
      },
      "source": [
        "file_names[:5]"
      ],
      "execution_count": 115,
      "outputs": [
        {
          "output_type": "execute_result",
          "data": {
            "text/plain": [
              "['45_1_0_20170117135025030.jpg',\n",
              " '40_1_0_20170104183430557.jpg',\n",
              " '30_0_1_20170116010659651.jpg',\n",
              " '22_0_0_20170117193856707.jpg',\n",
              " '35_0_0_20170117193222963.jpg']"
            ]
          },
          "metadata": {
            "tags": []
          },
          "execution_count": 115
        }
      ]
    },
    {
      "cell_type": "code",
      "metadata": {
        "colab": {
          "base_uri": "https://localhost:8080/"
        },
        "id": "hHsw7jfrj1yx",
        "outputId": "22aa4e64-c0ff-4b9e-e664-b81b9e194c3a"
      },
      "source": [
        "Races[:5]"
      ],
      "execution_count": 116,
      "outputs": [
        {
          "output_type": "execute_result",
          "data": {
            "text/plain": [
              "['[1. 0. 0. 0. 0.]',\n",
              " '[1. 0. 0. 0. 0.]',\n",
              " '[0. 1. 0. 0. 0.]',\n",
              " '[1. 0. 0. 0. 0.]',\n",
              " '[1. 0. 0. 0. 0.]']"
            ]
          },
          "metadata": {
            "tags": []
          },
          "execution_count": 116
        }
      ]
    },
    {
      "cell_type": "code",
      "metadata": {
        "colab": {
          "base_uri": "https://localhost:8080/"
        },
        "id": "fmhNVTkk27ID",
        "outputId": "9515f322-0428-4b85-9336-ad1b7954a353"
      },
      "source": [
        "print(Races[0])\n",
        "test = (Races[0][1:-1].split(' '))\n",
        "print(test)\n",
        "print(test.index('1.'))"
      ],
      "execution_count": 117,
      "outputs": [
        {
          "output_type": "stream",
          "text": [
            "[1. 0. 0. 0. 0.]\n",
            "['1.', '0.', '0.', '0.', '0.']\n",
            "0\n"
          ],
          "name": "stdout"
        }
      ]
    },
    {
      "cell_type": "code",
      "metadata": {
        "colab": {
          "base_uri": "https://localhost:8080/"
        },
        "id": "mIN3bhXo4VBX",
        "outputId": "cc242eb2-f5de-44d5-d02c-4ebed60d239f"
      },
      "source": [
        "y = [0] * 5\n",
        "for data in Races:\n",
        "  race_one_hot = (data[1:-1].split(' '))\n",
        "  race = race_one_hot.index('1.')\n",
        "  y[race] += 1\n",
        "\n",
        "x = [0, 1, 2, 3, 4]\n",
        "\n",
        "print(\"Count of each race:\")\n",
        "print(y)"
      ],
      "execution_count": 82,
      "outputs": [
        {
          "output_type": "stream",
          "text": [
            "Count of each race:\n",
            "[10078, 4526, 3434, 3975, 1692]\n"
          ],
          "name": "stdout"
        }
      ]
    },
    {
      "cell_type": "code",
      "metadata": {
        "colab": {
          "base_uri": "https://localhost:8080/",
          "height": 336
        },
        "id": "_8p0QZqw6MzK",
        "outputId": "3663b4a7-b48a-4f5a-abd4-ce8615267055"
      },
      "source": [
        "import matplotlib.pyplot as plt\n",
        "fig = plt.figure()\n",
        "ax = fig.add_axes([0,0,1,1])\n",
        "ax.bar(x, y)\n",
        "plt.show()"
      ],
      "execution_count": 83,
      "outputs": [
        {
          "output_type": "display_data",
          "data": {
            "image/png": "[encoded data removed]",
            "text/plain": [
              "<Figure size 432x288 with 1 Axes>"
            ]
          },
          "metadata": {
            "tags": [],
            "needs_background": "light"
          }
        }
      ]
    },
    {
      "cell_type": "code",
      "metadata": {
        "id": "-JFyKnG88K25"
      },
      "source": [
        "\n",
        "white = Races.index('[1. 0. 0. 0. 0.]')\n",
        "black = Races.index('[0. 1. 0. 0. 0.]')\n",
        "asian = Races.index('[0. 0. 1. 0. 0.]')\n",
        "indian = Races.index('[0. 0. 0. 1. 0.]')\n",
        "other = Races.index('[0. 0. 0. 0. 1.]')\n"
      ],
      "execution_count": 84,
      "outputs": []
    },
    {
      "cell_type": "code",
      "metadata": {
        "colab": {
          "base_uri": "https://localhost:8080/"
        },
        "id": "RlFaIStG-wTD",
        "outputId": "cabae040-400e-49e7-a288-406a1f11b36d"
      },
      "source": [
        "!ls"
      ],
      "execution_count": null,
      "outputs": [
        {
          "output_type": "stream",
          "text": [
            "drive  sample_data  UTKFace  UTKFace.tar.gz\n"
          ],
          "name": "stdout"
        }
      ]
    },
    {
      "cell_type": "code",
      "metadata": {
        "colab": {
          "base_uri": "https://localhost:8080/"
        },
        "id": "MsKPPEutA6uK",
        "outputId": "f65253af-2a2c-4d49-ba25-505db7903c55"
      },
      "source": [
        "print('/content/UTKFace/' + file_names[white])"
      ],
      "execution_count": 85,
      "outputs": [
        {
          "output_type": "stream",
          "text": [
            "/content/UTKFace/45_1_0_20170117135025030.jpg\n"
          ],
          "name": "stdout"
        }
      ]
    },
    {
      "cell_type": "code",
      "metadata": {
        "colab": {
          "base_uri": "https://localhost:8080/",
          "height": 34
        },
        "id": "JuQB_YEmAQ5B",
        "outputId": "730f5ce4-261d-45e7-e568-d4608d4eb81d"
      },
      "source": [
        "from IPython import display\n",
        "display.Image('/content/UTKFace/' + file_names[white])"
      ],
      "execution_count": 86,
      "outputs": [
        {
          "output_type": "execute_result",
          "data": {
            "image/png": "/content/UTKFace/45_1_0_20170117135025030.jpg",
            "text/plain": [
              "<IPython.core.display.Image object>"
            ]
          },
          "metadata": {
            "tags": []
          },
          "execution_count": 86
        }
      ]
    },
    {
      "cell_type": "code",
      "metadata": {
        "id": "9nfmgz0Ox6bP"
      },
      "source": [
        "dataGenerator = preprocessing.image.ImageDataGenerator(\n",
        "    rescale = 1/255.0, \n",
        "    validation_split = 0.3\n",
        ")"
      ],
      "execution_count": 87,
      "outputs": []
    },
    {
      "cell_type": "code",
      "metadata": {
        "colab": {
          "base_uri": "https://localhost:8080/"
        },
        "id": "3Dg_c_RQuhSi",
        "outputId": "283827bd-3eb9-4299-be4a-5b4438761f64"
      },
      "source": [
        "TrainData = dataGenerator.flow_from_dataframe(\n",
        "    dataframe = df, \n",
        "    x_col = 'image', \n",
        "    y_col = 'Race', \n",
        "    target_size = (100, 100), \n",
        "    color_mode = \"grayscale\",\n",
        "    batch_size = 32, \n",
        "    class_mode = 'categorical', \n",
        "    subset = \"training\", \n",
        "    shuffle = False\n",
        ")\n"
      ],
      "execution_count": 118,
      "outputs": [
        {
          "output_type": "stream",
          "text": [
            "Found 16594 validated image filenames belonging to 5 classes.\n"
          ],
          "name": "stdout"
        }
      ]
    },
    {
      "cell_type": "code",
      "metadata": {
        "colab": {
          "base_uri": "https://localhost:8080/"
        },
        "id": "vD77DhQ2yJv-",
        "outputId": "60dd3ba0-5228-49fa-a23f-295a18998d10"
      },
      "source": [
        "TestData = dataGenerator.flow_from_dataframe(\n",
        "    dataframe = df, \n",
        "    x_col = 'image', \n",
        "    y_col = 'Race', \n",
        "    target_size = (100, 100), \n",
        "    color_mode = \"grayscale\",\n",
        "    batch_size = 32, \n",
        "    class_mode = 'categorical', \n",
        "    subset = \"validation\", \n",
        "    shuffle = False\n",
        ")\n",
        "\n"
      ],
      "execution_count": 119,
      "outputs": [
        {
          "output_type": "stream",
          "text": [
            "Found 7111 validated image filenames belonging to 5 classes.\n"
          ],
          "name": "stdout"
        }
      ]
    },
    {
      "cell_type": "code",
      "metadata": {
        "id": "VUpkBY6rzCG-"
      },
      "source": [
        "input = layers.Input(shape = (100, 100, 1))\n",
        "\n",
        "output = layers.Flatten()(input)\n",
        "output = layers.Dense(1024, activation = \"relu\")(output)\n",
        "output = layers.Dense(512, activation = \"relu\")(output)\n",
        "output = layers.Dense(5, activation = \"softmax\")(output)"
      ],
      "execution_count": 120,
      "outputs": []
    },
    {
      "cell_type": "code",
      "metadata": {
        "id": "-2DftLk8zl4x"
      },
      "source": [
        "model = models.Model(inputs = input, outputs = output)"
      ],
      "execution_count": 121,
      "outputs": []
    },
    {
      "cell_type": "code",
      "metadata": {
        "id": "PYT3Xr-FzrN1"
      },
      "source": [
        "model.compile(optimizer = optimizers.SGD(learning_rate = 0.01), loss = \"categorical_crossentropy\", metrics = [\"accuracy\"])"
      ],
      "execution_count": 122,
      "outputs": []
    },
    {
      "cell_type": "code",
      "metadata": {
        "colab": {
          "base_uri": "https://localhost:8080/"
        },
        "id": "tBQChREoz5U6",
        "outputId": "111be0a2-9d37-42f3-8d87-728901d8af4e"
      },
      "source": [
        "model.summary()"
      ],
      "execution_count": 123,
      "outputs": [
        {
          "output_type": "stream",
          "text": [
            "Model: \"model_2\"\n",
            "_________________________________________________________________\n",
            "Layer (type)                 Output Shape              Param #   \n",
            "=================================================================\n",
            "input_3 (InputLayer)         [(None, 100, 100, 1)]     0         \n",
            "_________________________________________________________________\n",
            "flatten_2 (Flatten)          (None, 10000)             0         \n",
            "_________________________________________________________________\n",
            "dense_6 (Dense)              (None, 1024)              10241024  \n",
            "_________________________________________________________________\n",
            "dense_7 (Dense)              (None, 512)               524800    \n",
            "_________________________________________________________________\n",
            "dense_8 (Dense)              (None, 5)                 2565      \n",
            "=================================================================\n",
            "Total params: 10,768,389\n",
            "Trainable params: 10,768,389\n",
            "Non-trainable params: 0\n",
            "_________________________________________________________________\n"
          ],
          "name": "stdout"
        }
      ]
    },
    {
      "cell_type": "markdown",
      "metadata": {
        "id": "GqOeXYle1neG"
      },
      "source": [
        "### Initial Model"
      ]
    },
    {
      "cell_type": "code",
      "metadata": {
        "colab": {
          "base_uri": "https://localhost:8080/"
        },
        "id": "PbAJ7jaCJ_Br",
        "outputId": "7303be60-030c-4391-fa2c-5a0f4df69f61"
      },
      "source": [
        "history = model.fit(TrainData, validation_data = TestData, epochs = 10)"
      ],
      "execution_count": 124,
      "outputs": [
        {
          "output_type": "stream",
          "text": [
            "Epoch 1/10\n",
            "519/519 [==============================] - 21s 40ms/step - loss: 1.2813 - accuracy: 0.5031 - val_loss: 1.1451 - val_accuracy: 0.5510\n",
            "Epoch 2/10\n",
            "519/519 [==============================] - 20s 39ms/step - loss: 1.1154 - accuracy: 0.5825 - val_loss: 1.1352 - val_accuracy: 0.5806\n",
            "Epoch 3/10\n",
            "519/519 [==============================] - 21s 40ms/step - loss: 1.0374 - accuracy: 0.6185 - val_loss: 1.0613 - val_accuracy: 0.6050\n",
            "Epoch 4/10\n",
            "519/519 [==============================] - 21s 41ms/step - loss: 0.9804 - accuracy: 0.6426 - val_loss: 0.9623 - val_accuracy: 0.6401\n",
            "Epoch 5/10\n",
            "519/519 [==============================] - 20s 39ms/step - loss: 0.9486 - accuracy: 0.6555 - val_loss: 0.9301 - val_accuracy: 0.6546\n",
            "Epoch 6/10\n",
            "519/519 [==============================] - 20s 39ms/step - loss: 0.9147 - accuracy: 0.6690 - val_loss: 0.9390 - val_accuracy: 0.6510\n",
            "Epoch 7/10\n",
            "519/519 [==============================] - 20s 39ms/step - loss: 0.8847 - accuracy: 0.6766 - val_loss: 0.8974 - val_accuracy: 0.6759\n",
            "Epoch 8/10\n",
            "519/519 [==============================] - 20s 39ms/step - loss: 0.8761 - accuracy: 0.6857 - val_loss: 0.8605 - val_accuracy: 0.6975\n",
            "Epoch 9/10\n",
            "519/519 [==============================] - 20s 39ms/step - loss: 0.8479 - accuracy: 0.6983 - val_loss: 0.8560 - val_accuracy: 0.6960\n",
            "Epoch 10/10\n",
            "519/519 [==============================] - 20s 39ms/step - loss: 0.8382 - accuracy: 0.7003 - val_loss: 0.8651 - val_accuracy: 0.6805\n"
          ],
          "name": "stdout"
        }
      ]
    },
    {
      "cell_type": "code",
      "metadata": {
        "colab": {
          "base_uri": "https://localhost:8080/",
          "height": 590
        },
        "id": "6z0MngKALJ3I",
        "outputId": "49810bdd-b54b-4d37-9963-3d111642f948"
      },
      "source": [
        "\n",
        "print(history.history.keys())\n",
        "\n",
        "plt.plot(history.history['accuracy'])\n",
        "plt.plot(history.history['val_accuracy'])\n",
        "plt.title('model accuracy')\n",
        "plt.ylabel('accuracy')\n",
        "plt.xlabel('epoch')\n",
        "plt.legend(['train', 'test'], loc='upper left')\n",
        "plt.show()\n",
        "\n",
        "plt.plot(history.history['loss'])\n",
        "plt.plot(history.history['val_loss'])\n",
        "plt.title('model loss')\n",
        "plt.ylabel('loss')\n",
        "plt.xlabel('epoch')\n",
        "plt.legend(['train', 'test'], loc='upper left')\n",
        "plt.show()\n",
        "\n",
        "# Source: https://machinelearningmastery.com/display-deep-learning-model-training-history-in-keras/"
      ],
      "execution_count": 125,
      "outputs": [
        {
          "output_type": "stream",
          "text": [
            "dict_keys(['loss', 'accuracy', 'val_loss', 'val_accuracy'])\n"
          ],
          "name": "stdout"
        },
        {
          "output_type": "display_data",
          "data": {
            "image/png": "[encoded data removed]",
            "text/plain": [
              "<Figure size 432x288 with 1 Axes>"
            ]
          },
          "metadata": {
            "tags": [],
            "needs_background": "light"
          }
        },
        {
          "output_type": "display_data",
          "data": {
            "image/png": "[encoded data removed]",
            "text/plain": [
              "<Figure size 432x288 with 1 Axes>"
            ]
          },
          "metadata": {
            "tags": [],
            "needs_background": "light"
          }
        }
      ]
    },
    {
      "cell_type": "code",
      "metadata": {
        "colab": {
          "base_uri": "https://localhost:8080/"
        },
        "id": "aCB4ZLihLYKe",
        "outputId": "0eda8a7c-8370-408e-f364-08057b3c73f5"
      },
      "source": [
        "\n"
      ],
      "execution_count": 154,
      "outputs": [
        {
          "output_type": "stream",
          "text": [
            "519/519 [==============================] - 15s 29ms/step\n"
          ],
          "name": "stdout"
        }
      ]
    },
    {
      "cell_type": "markdown",
      "metadata": {
        "id": "a5Bntidz0eJA"
      },
      "source": [
        "### Train Data Results (Momentum = 0)"
      ]
    },
    {
      "cell_type": "code",
      "metadata": {
        "colab": {
          "base_uri": "https://localhost:8080/"
        },
        "id": "5k2GCW_1QYUl",
        "outputId": "fb607a8c-e8bf-405b-e604-e4d7bbf0f43d"
      },
      "source": [
        "y_pred = model.predict(TrainData, verbose = 1)\n",
        "y_pred_bool = np.argmax(y_pred, axis = 1)\n",
        "\n",
        "y_true = np.array(TrainData.labels)\n",
        "\n",
        "print(classification_report(y_true, y_pred_bool))"
      ],
      "execution_count": 171,
      "outputs": [
        {
          "output_type": "stream",
          "text": [
            "519/519 [==============================] - 15s 30ms/step\n",
            "              precision    recall  f1-score   support\n",
            "\n",
            "           0       0.50      0.00      0.01      1177\n",
            "           1       0.76      0.42      0.54      2789\n",
            "           2       0.84      0.55      0.66      2378\n",
            "           3       0.81      0.78      0.79      3192\n",
            "           4       0.64      0.94      0.76      7058\n",
            "\n",
            "    accuracy                           0.70     16594\n",
            "   macro avg       0.71      0.54      0.55     16594\n",
            "weighted avg       0.71      0.70      0.66     16594\n",
            "\n"
          ],
          "name": "stdout"
        }
      ]
    },
    {
      "cell_type": "markdown",
      "metadata": {
        "id": "FRjSlSTT1Bvy"
      },
      "source": [
        "### Test Data Results (Momentum = 0)"
      ]
    },
    {
      "cell_type": "code",
      "metadata": {
        "colab": {
          "base_uri": "https://localhost:8080/"
        },
        "id": "ePiDLjnVqsMD",
        "outputId": "476f43fd-c0e5-46b6-a8c6-33d67c10c485"
      },
      "source": [
        "y_pred = model.predict(TestData, verbose = 1)\n",
        "y_pred_bool = np.argmax(y_pred, axis = 1)\n",
        "\n",
        "y_true = np.array(TestData.labels)\n",
        "\n",
        "print(classification_report(y_true, y_pred_bool))"
      ],
      "execution_count": 172,
      "outputs": [
        {
          "output_type": "stream",
          "text": [
            "223/223 [==============================] - 7s 29ms/step\n",
            "              precision    recall  f1-score   support\n",
            "\n",
            "           0       0.33      0.00      0.00       515\n",
            "           1       0.72      0.40      0.51      1186\n",
            "           2       0.81      0.53      0.64      1056\n",
            "           3       0.78      0.76      0.77      1334\n",
            "           4       0.63      0.92      0.75      3020\n",
            "\n",
            "    accuracy                           0.68      7111\n",
            "   macro avg       0.65      0.52      0.53      7111\n",
            "weighted avg       0.68      0.68      0.64      7111\n",
            "\n"
          ],
          "name": "stdout"
        }
      ]
    },
    {
      "cell_type": "markdown",
      "metadata": {
        "id": "SPd-Upwh45qf"
      },
      "source": [
        "## Momentum"
      ]
    },
    {
      "cell_type": "markdown",
      "metadata": {
        "id": "esBipn67sP5v"
      },
      "source": [
        "**Momentum** or **SGD with momentum** is a method which helps accelerate gradients vectors in the right directions, thus leading to faster converging in compare to stochastic gradient descent.\n",
        "A momentum, is a moving average of our gradients. We then use it to update the weight of the network. Here is how the weights are updated using momentum:\n",
        "\n",
        "\n",
        "$$velocity = momentum * velocity - learningRate * g$$\n",
        "$$w = w + velocity$$\n",
        "\n",
        "It considers the amount of weight increment in the previous iteration as well. Thus, if the optimization algorithm is moving in a general direction, the momentum causes it to ‘resist’ changes in direction.\n",
        "\n",
        "A large value of momentum also means that the convergence will happen fast. But if both the momentum and learning rate are kept at large values, then you might skip the minimum with a huge step"
      ]
    },
    {
      "cell_type": "code",
      "metadata": {
        "id": "HOHJLjw10WDR"
      },
      "source": [
        "model.compile(optimizer = optimizers.SGD(learning_rate = 0.01, momentum = 0.5), loss = \"categorical_crossentropy\", metrics = [\"accuracy\"])"
      ],
      "execution_count": 174,
      "outputs": []
    },
    {
      "cell_type": "code",
      "metadata": {
        "id": "Vyvy07zV1hvF",
        "colab": {
          "base_uri": "https://localhost:8080/"
        },
        "outputId": "8b67eec4-66b3-45c1-ff40-b89eb21e40bf"
      },
      "source": [
        "history = model.fit(TrainData, validation_data = TestData, epochs = 10)"
      ],
      "execution_count": 177,
      "outputs": [
        {
          "output_type": "stream",
          "text": [
            "Epoch 1/10\n",
            "519/519 [==============================] - 21s 40ms/step - loss: 0.7157 - accuracy: 0.7459 - val_loss: 0.7922 - val_accuracy: 0.7203\n",
            "Epoch 2/10\n",
            "519/519 [==============================] - 21s 40ms/step - loss: 0.6992 - accuracy: 0.7511 - val_loss: 0.8430 - val_accuracy: 0.7017\n",
            "Epoch 3/10\n",
            "519/519 [==============================] - 21s 40ms/step - loss: 0.6875 - accuracy: 0.7549 - val_loss: 0.8506 - val_accuracy: 0.7019\n",
            "Epoch 4/10\n",
            "519/519 [==============================] - 21s 40ms/step - loss: 0.6766 - accuracy: 0.7598 - val_loss: 0.7579 - val_accuracy: 0.7324\n",
            "Epoch 5/10\n",
            "519/519 [==============================] - 20s 39ms/step - loss: 0.6695 - accuracy: 0.7600 - val_loss: 0.7736 - val_accuracy: 0.7261\n",
            "Epoch 6/10\n",
            "519/519 [==============================] - 20s 39ms/step - loss: 0.6613 - accuracy: 0.7662 - val_loss: 0.8083 - val_accuracy: 0.7182\n",
            "Epoch 7/10\n",
            "519/519 [==============================] - 21s 40ms/step - loss: 0.6446 - accuracy: 0.7670 - val_loss: 0.8013 - val_accuracy: 0.7172\n",
            "Epoch 8/10\n",
            "519/519 [==============================] - 21s 40ms/step - loss: 0.6347 - accuracy: 0.7734 - val_loss: 0.7681 - val_accuracy: 0.7314\n",
            "Epoch 9/10\n",
            "519/519 [==============================] - 21s 40ms/step - loss: 0.6242 - accuracy: 0.7753 - val_loss: 0.7906 - val_accuracy: 0.7269\n",
            "Epoch 10/10\n",
            "519/519 [==============================] - 21s 40ms/step - loss: 0.6159 - accuracy: 0.7794 - val_loss: 0.7724 - val_accuracy: 0.7310\n"
          ],
          "name": "stdout"
        }
      ]
    },
    {
      "cell_type": "markdown",
      "metadata": {
        "id": "rZOhIDa42oci"
      },
      "source": [
        "### Test Results with Momentum = 0.5"
      ]
    },
    {
      "cell_type": "code",
      "metadata": {
        "colab": {
          "base_uri": "https://localhost:8080/"
        },
        "id": "nhFsdJ4S4dDD",
        "outputId": "9738dc91-7460-4151-d87d-ed07036e3d27"
      },
      "source": [
        "y_pred = model.predict(TrainData, verbose = 1)\n",
        "y_pred_bool = np.argmax(y_pred, axis = 1)\n",
        "\n",
        "y_true = np.array(TrainData.labels)\n",
        "\n",
        "print(classification_report(y_true, y_pred_bool))"
      ],
      "execution_count": 178,
      "outputs": [
        {
          "output_type": "stream",
          "text": [
            "519/519 [==============================] - 14s 27ms/step\n",
            "              precision    recall  f1-score   support\n",
            "\n",
            "           0       0.61      0.22      0.32      1177\n",
            "           1       0.77      0.71      0.74      2789\n",
            "           2       0.94      0.69      0.80      2378\n",
            "           3       0.80      0.91      0.85      3192\n",
            "           4       0.79      0.92      0.85      7058\n",
            "\n",
            "    accuracy                           0.80     16594\n",
            "   macro avg       0.78      0.69      0.71     16594\n",
            "weighted avg       0.80      0.80      0.78     16594\n",
            "\n"
          ],
          "name": "stdout"
        }
      ]
    },
    {
      "cell_type": "markdown",
      "metadata": {
        "id": "nZnny93H4mAe"
      },
      "source": [
        "#### As it can be seen, there is a 10% increase in accuracy when momentum is set to 0.5 in compare to the previous case which momentum was 0."
      ]
    },
    {
      "cell_type": "code",
      "metadata": {
        "id": "v9d59qPr5QCJ"
      },
      "source": [
        "model.compile(optimizer = optimizers.SGD(learning_rate = 0.01, momentum = 0.9), loss = \"categorical_crossentropy\", metrics = [\"accuracy\"])"
      ],
      "execution_count": 179,
      "outputs": []
    },
    {
      "cell_type": "code",
      "metadata": {
        "colab": {
          "base_uri": "https://localhost:8080/"
        },
        "id": "FSBxj_j95auK",
        "outputId": "dcc91631-4e9f-43d0-be7e-f5cab2117b2f"
      },
      "source": [
        "history = model.fit(TrainData, validation_data = TestData, epochs = 10)"
      ],
      "execution_count": 180,
      "outputs": [
        {
          "output_type": "stream",
          "text": [
            "Epoch 1/10\n",
            "519/519 [==============================] - 21s 40ms/step - loss: 1.0378 - accuracy: 0.6240 - val_loss: 1.2645 - val_accuracy: 0.4516\n",
            "Epoch 2/10\n",
            "519/519 [==============================] - 21s 41ms/step - loss: 1.0306 - accuracy: 0.6268 - val_loss: 1.0302 - val_accuracy: 0.6497\n",
            "Epoch 3/10\n",
            "519/519 [==============================] - 21s 41ms/step - loss: 0.9920 - accuracy: 0.6440 - val_loss: 0.9759 - val_accuracy: 0.6293\n",
            "Epoch 4/10\n",
            "519/519 [==============================] - 22s 42ms/step - loss: 0.9440 - accuracy: 0.6571 - val_loss: 0.9650 - val_accuracy: 0.6393\n",
            "Epoch 5/10\n",
            "519/519 [==============================] - 22s 42ms/step - loss: 0.9229 - accuracy: 0.6672 - val_loss: 0.9765 - val_accuracy: 0.6351\n",
            "Epoch 6/10\n",
            "519/519 [==============================] - 22s 42ms/step - loss: 0.8934 - accuracy: 0.6812 - val_loss: 0.8681 - val_accuracy: 0.7033\n",
            "Epoch 7/10\n",
            "519/519 [==============================] - 22s 42ms/step - loss: 0.8775 - accuracy: 0.6881 - val_loss: 0.8526 - val_accuracy: 0.6996\n",
            "Epoch 8/10\n",
            "519/519 [==============================] - 22s 42ms/step - loss: 0.8543 - accuracy: 0.6976 - val_loss: 0.8707 - val_accuracy: 0.6839\n",
            "Epoch 9/10\n",
            "519/519 [==============================] - 22s 42ms/step - loss: 0.8479 - accuracy: 0.6962 - val_loss: 0.8355 - val_accuracy: 0.7083\n",
            "Epoch 10/10\n",
            "519/519 [==============================] - 22s 42ms/step - loss: 0.8194 - accuracy: 0.7087 - val_loss: 0.8741 - val_accuracy: 0.6954\n"
          ],
          "name": "stdout"
        }
      ]
    },
    {
      "cell_type": "code",
      "metadata": {
        "colab": {
          "base_uri": "https://localhost:8080/"
        },
        "id": "TczoPEC_69jk",
        "outputId": "edf22338-c2e2-40ba-ad21-10ef47fb0cab"
      },
      "source": [
        "y_pred = model.predict(TrainData, verbose = 1)\n",
        "y_pred_bool = np.argmax(y_pred, axis = 1)\n",
        "\n",
        "y_true = np.array(TrainData.labels)\n",
        "\n",
        "print(classification_report(y_true, y_pred_bool))"
      ],
      "execution_count": 181,
      "outputs": [
        {
          "output_type": "stream",
          "text": [
            "519/519 [==============================] - 15s 29ms/step\n",
            "              precision    recall  f1-score   support\n",
            "\n",
            "           0       0.62      0.02      0.03      1177\n",
            "           1       0.57      0.75      0.65      2789\n",
            "           2       0.64      0.84      0.72      2378\n",
            "           3       0.83      0.80      0.82      3192\n",
            "           4       0.80      0.76      0.78      7058\n",
            "\n",
            "    accuracy                           0.73     16594\n",
            "   macro avg       0.69      0.63      0.60     16594\n",
            "weighted avg       0.73      0.73      0.71     16594\n",
            "\n"
          ],
          "name": "stdout"
        }
      ]
    },
    {
      "cell_type": "markdown",
      "metadata": {
        "id": "-YONtCtB7IXp"
      },
      "source": [
        "### Results Compared:\n",
        "\n",
        "X                  | Momentum = 0 | Momentum = 0.5 | Momentum = 0.9 |\n",
        "-------------------|--------------|----------------|----------------|\n",
        "Accuracy           | 68%          |         80%    |          73%   |"
      ]
    },
    {
      "cell_type": "markdown",
      "metadata": {
        "id": "IraLS8707xEk"
      },
      "source": [
        "A too large momentum value might cause the algorithm to jump over the minimum value with a huge step."
      ]
    },
    {
      "cell_type": "code",
      "metadata": {
        "id": "73i6_5VT9a2t"
      },
      "source": [
        ""
      ],
      "execution_count": null,
      "outputs": []
    }
  ]
}